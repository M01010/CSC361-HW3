{
 "cells": [
  {
   "metadata": {
    "ExecuteTime": {
     "end_time": "2024-05-18T11:48:27.268188200Z",
     "start_time": "2024-05-18T11:48:27.162567Z"
    }
   },
   "cell_type": "code",
   "source": [
    "import pandas as pd\n",
    "\n",
    "df = pd.read_csv('data/ObesityDataSet.csv')\n",
    "df.head()"
   ],
   "id": "5fb928d3c69b917b",
   "outputs": [
    {
     "data": {
      "text/plain": "   Gender   Age  Height  Weight family_history_with_overweight FAVC  FCVC  \\\n0  Female  21.0    1.62    64.0                            yes   no   2.0   \n1  Female  21.0    1.52    56.0                            yes   no   3.0   \n2    Male  23.0    1.80    77.0                            yes   no   2.0   \n3    Male  27.0    1.80    87.0                             no   no   3.0   \n4    Male  22.0    1.78    89.8                             no   no   2.0   \n\n   NCP       CAEC SMOKE  CH2O  SCC  FAF  TUE        CALC  \\\n0  3.0  Sometimes    no   2.0   no  0.0  1.0          no   \n1  3.0  Sometimes   yes   3.0  yes  3.0  0.0   Sometimes   \n2  3.0  Sometimes    no   2.0   no  2.0  1.0  Frequently   \n3  3.0  Sometimes    no   2.0   no  2.0  0.0  Frequently   \n4  1.0  Sometimes    no   2.0   no  0.0  0.0   Sometimes   \n\n                  MTRANS           NObeyesdad  \n0  Public_Transportation        Normal_Weight  \n1  Public_Transportation        Normal_Weight  \n2  Public_Transportation        Normal_Weight  \n3                Walking   Overweight_Level_I  \n4  Public_Transportation  Overweight_Level_II  ",
      "text/html": "<div>\n<style scoped>\n    .dataframe tbody tr th:only-of-type {\n        vertical-align: middle;\n    }\n\n    .dataframe tbody tr th {\n        vertical-align: top;\n    }\n\n    .dataframe thead th {\n        text-align: right;\n    }\n</style>\n<table border=\"1\" class=\"dataframe\">\n  <thead>\n    <tr style=\"text-align: right;\">\n      <th></th>\n      <th>Gender</th>\n      <th>Age</th>\n      <th>Height</th>\n      <th>Weight</th>\n      <th>family_history_with_overweight</th>\n      <th>FAVC</th>\n      <th>FCVC</th>\n      <th>NCP</th>\n      <th>CAEC</th>\n      <th>SMOKE</th>\n      <th>CH2O</th>\n      <th>SCC</th>\n      <th>FAF</th>\n      <th>TUE</th>\n      <th>CALC</th>\n      <th>MTRANS</th>\n      <th>NObeyesdad</th>\n    </tr>\n  </thead>\n  <tbody>\n    <tr>\n      <th>0</th>\n      <td>Female</td>\n      <td>21.0</td>\n      <td>1.62</td>\n      <td>64.0</td>\n      <td>yes</td>\n      <td>no</td>\n      <td>2.0</td>\n      <td>3.0</td>\n      <td>Sometimes</td>\n      <td>no</td>\n      <td>2.0</td>\n      <td>no</td>\n      <td>0.0</td>\n      <td>1.0</td>\n      <td>no</td>\n      <td>Public_Transportation</td>\n      <td>Normal_Weight</td>\n    </tr>\n    <tr>\n      <th>1</th>\n      <td>Female</td>\n      <td>21.0</td>\n      <td>1.52</td>\n      <td>56.0</td>\n      <td>yes</td>\n      <td>no</td>\n      <td>3.0</td>\n      <td>3.0</td>\n      <td>Sometimes</td>\n      <td>yes</td>\n      <td>3.0</td>\n      <td>yes</td>\n      <td>3.0</td>\n      <td>0.0</td>\n      <td>Sometimes</td>\n      <td>Public_Transportation</td>\n      <td>Normal_Weight</td>\n    </tr>\n    <tr>\n      <th>2</th>\n      <td>Male</td>\n      <td>23.0</td>\n      <td>1.80</td>\n      <td>77.0</td>\n      <td>yes</td>\n      <td>no</td>\n      <td>2.0</td>\n      <td>3.0</td>\n      <td>Sometimes</td>\n      <td>no</td>\n      <td>2.0</td>\n      <td>no</td>\n      <td>2.0</td>\n      <td>1.0</td>\n      <td>Frequently</td>\n      <td>Public_Transportation</td>\n      <td>Normal_Weight</td>\n    </tr>\n    <tr>\n      <th>3</th>\n      <td>Male</td>\n      <td>27.0</td>\n      <td>1.80</td>\n      <td>87.0</td>\n      <td>no</td>\n      <td>no</td>\n      <td>3.0</td>\n      <td>3.0</td>\n      <td>Sometimes</td>\n      <td>no</td>\n      <td>2.0</td>\n      <td>no</td>\n      <td>2.0</td>\n      <td>0.0</td>\n      <td>Frequently</td>\n      <td>Walking</td>\n      <td>Overweight_Level_I</td>\n    </tr>\n    <tr>\n      <th>4</th>\n      <td>Male</td>\n      <td>22.0</td>\n      <td>1.78</td>\n      <td>89.8</td>\n      <td>no</td>\n      <td>no</td>\n      <td>2.0</td>\n      <td>1.0</td>\n      <td>Sometimes</td>\n      <td>no</td>\n      <td>2.0</td>\n      <td>no</td>\n      <td>0.0</td>\n      <td>0.0</td>\n      <td>Sometimes</td>\n      <td>Public_Transportation</td>\n      <td>Overweight_Level_II</td>\n    </tr>\n  </tbody>\n</table>\n</div>"
     },
     "execution_count": 2,
     "metadata": {},
     "output_type": "execute_result"
    }
   ],
   "execution_count": 2
  },
  {
   "cell_type": "code",
   "source": [
    "df.columns"
   ],
   "metadata": {
    "collapsed": false,
    "ExecuteTime": {
     "end_time": "2024-05-18T11:48:27.287988500Z",
     "start_time": "2024-05-18T11:48:27.228097300Z"
    }
   },
   "id": "7db70a15535f9634",
   "outputs": [
    {
     "data": {
      "text/plain": "Index(['Gender', 'Age', 'Height', 'Weight', 'family_history_with_overweight',\n       'FAVC', 'FCVC', 'NCP', 'CAEC', 'SMOKE', 'CH2O', 'SCC', 'FAF', 'TUE',\n       'CALC', 'MTRANS', 'NObeyesdad'],\n      dtype='object')"
     },
     "execution_count": 3,
     "metadata": {},
     "output_type": "execute_result"
    }
   ],
   "execution_count": 3
  },
  {
   "cell_type": "code",
   "source": [
    "from sklearn.preprocessing import LabelEncoder\n",
    "\n",
    "label_encoder = LabelEncoder()\n",
    "\n",
    "df['NObeyesdad'] = label_encoder.fit_transform(df['NObeyesdad'])\n"
   ],
   "metadata": {
    "collapsed": false,
    "ExecuteTime": {
     "end_time": "2024-05-18T11:48:27.316369600Z",
     "start_time": "2024-05-18T11:48:27.274683700Z"
    }
   },
   "id": "27c5e37a65a3590e",
   "outputs": [],
   "execution_count": 4
  },
  {
   "metadata": {
    "ExecuteTime": {
     "end_time": "2024-05-18T11:48:27.377811200Z",
     "start_time": "2024-05-18T11:48:27.322814500Z"
    }
   },
   "cell_type": "code",
   "source": [
    "label_encoder.inverse_transform([0, 1])"
   ],
   "id": "867b404c80cbc1a",
   "outputs": [
    {
     "data": {
      "text/plain": "array(['Insufficient_Weight', 'Normal_Weight'], dtype=object)"
     },
     "execution_count": 5,
     "metadata": {},
     "output_type": "execute_result"
    }
   ],
   "execution_count": 5
  },
  {
   "metadata": {
    "ExecuteTime": {
     "end_time": "2024-05-18T11:48:27.427263400Z",
     "start_time": "2024-05-18T11:48:27.353231100Z"
    }
   },
   "cell_type": "code",
   "source": [
    "from sklearn.model_selection import train_test_split\n",
    "\n",
    "x = df.drop('NObeyesdad', axis=1)\n",
    "y = df['NObeyesdad']\n",
    "\n",
    "x_train, x_test, y_train, y_test = train_test_split(x, y, test_size=0.2, random_state=42)"
   ],
   "id": "3376bba8a71d1ac7",
   "outputs": [],
   "execution_count": 6
  },
  {
   "metadata": {
    "ExecuteTime": {
     "end_time": "2024-05-18T11:48:48.176109200Z",
     "start_time": "2024-05-18T11:48:48.144957Z"
    }
   },
   "cell_type": "code",
   "source": [
    "from sklearn.linear_model import LogisticRegression\n",
    "from sklearn.neighbors import KNeighborsClassifier\n",
    "from sklearn.tree import DecisionTreeClassifier\n",
    "from sklearn.ensemble import RandomForestClassifier, GradientBoostingClassifier, AdaBoostClassifier\n",
    "from sklearn.svm import SVC\n",
    "from sklearn.naive_bayes import GaussianNB\n",
    "from sklearn.neural_network import MLPClassifier\n",
    "from xgboost import XGBClassifier\n",
    "\n",
    "models = {\n",
    "    'Logistic Regression': LogisticRegression(\n",
    "        C=1.0,             # Inverse of regularization strength\n",
    "        solver='saga',    # Algorithm to use for optimization\n",
    "    ),\n",
    "    'K-Nearest Neighbors': KNeighborsClassifier(\n",
    "        n_neighbors=5,     # Number of neighbors \n",
    "        weights='uniform'  \n",
    "    ),\n",
    "    'Decision Tree': DecisionTreeClassifier(),\n",
    "    'Random Forest': RandomForestClassifier(),\n",
    "    'SVC': SVC(\n",
    "        C=1.0,             # Regularization parameter\n",
    "        kernel='rbf',      \n",
    "        gamma='scale'      \n",
    "    ),\n",
    "    'Naive Bayes': GaussianNB(\n",
    "        var_smoothing=1e-9 \n",
    "    ),\n",
    "    'Gradient Boosting': GradientBoostingClassifier(\n",
    "        learning_rate=0.001,\n",
    "    ),\n",
    "    'AdaBoost': AdaBoostClassifier(\n",
    "        n_estimators=50,     # Number of weak learners to train\n",
    "        learning_rate=1.0    # Weight applied to each classifier at each boosting iteration\n",
    "    ),\n",
    "    'XGBoost': XGBClassifier(\n",
    "        eval_metric='mlogloss',  # it is like X\n",
    "        learning_rate=0.01        \n",
    "    ),\n",
    "    'MLP Classifier': MLPClassifier(\n",
    "        hidden_layer_sizes=(100,), \n",
    "        activation='relu',         \n",
    "        solver='adam'              \n",
    "    )\n",
    "}\n"
   ],
   "id": "79eb045465631dd0",
   "outputs": [],
   "execution_count": 11
  },
  {
   "metadata": {
    "ExecuteTime": {
     "end_time": "2024-05-18T11:48:48.907934300Z",
     "start_time": "2024-05-18T11:48:48.894282800Z"
    }
   },
   "cell_type": "code",
   "source": [
    "from sklearn.preprocessing import StandardScaler, OneHotEncoder\n",
    "from sklearn.compose import ColumnTransformer, make_column_selector\n",
    "from sklearn.pipeline import Pipeline\n",
    "\n",
    "numerical_transformer = Pipeline(steps=[\n",
    "    ('scaler', StandardScaler())\n",
    "])\n",
    "\n",
    "categorical_transformer = Pipeline(steps=[\n",
    "    ('onehot', OneHotEncoder(handle_unknown='ignore'))\n",
    "])\n",
    "\n",
    "preprocessor = ColumnTransformer(\n",
    "    transformers=[\n",
    "        ('num', numerical_transformer, make_column_selector(dtype_exclude=object)),\n",
    "        ('cat', categorical_transformer, make_column_selector(dtype_include=object)),\n",
    "    ]\n",
    ")"
   ],
   "id": "38bbb05d785f664d",
   "outputs": [],
   "execution_count": 12
  },
  {
   "metadata": {
    "ExecuteTime": {
     "end_time": "2024-05-18T11:48:49.459284100Z",
     "start_time": "2024-05-18T11:48:49.432465200Z"
    }
   },
   "cell_type": "code",
   "source": [
    "import json\n",
    "import os.path\n",
    "\n",
    "\n",
    "names = {}\n",
    "for f in x.select_dtypes(include=['object']).columns:\n",
    "    if 'cat' not in names:\n",
    "        names['cat'] = {}\n",
    "    names['cat'][f] = df[f].unique().tolist()\n",
    "names['num'] = x.select_dtypes(include=['int64', 'float64']).columns.tolist()\n",
    "\n",
    "if not os.path.isdir('files'):\n",
    "    os.makedirs('files')\n",
    "\n",
    "with open('files/column_data.json', 'w') as f:\n",
    "    json.dump(names, f)\n"
   ],
   "id": "f83a85594e8d9eb1",
   "outputs": [],
   "execution_count": 13
  },
  {
   "metadata": {
    "ExecuteTime": {
     "end_time": "2024-05-18T11:48:57.624700100Z",
     "start_time": "2024-05-18T11:48:50.422842500Z"
    }
   },
   "cell_type": "code",
   "source": [
    "from sklearn.metrics import accuracy_score\n",
    "\n",
    "pipeline_models = {}\n",
    "accuracy_scores = {}\n",
    "\n",
    "for name, model in models.items():\n",
    "    pipeline = Pipeline(\n",
    "        steps=[\n",
    "            ('preprocessor', preprocessor),\n",
    "            ('model', model),\n",
    "        ]\n",
    "    )\n",
    "    pipeline.fit(x_train, y_train)\n",
    "    pipeline_models[name] = pipeline\n",
    "\n",
    "    # fill accuracy\n",
    "    y_pred = pipeline.predict(x_test)\n",
    "    accuracy = accuracy_score(y_test, y_pred)\n",
    "    accuracy_scores[name] = accuracy"
   ],
   "id": "5081ea366e1f2fde",
   "outputs": [
    {
     "name": "stderr",
     "output_type": "stream",
     "text": [
      "C:\\Users\\Hatim\\AppData\\Local\\Programs\\Python\\Python39\\lib\\site-packages\\sklearn\\linear_model\\_sag.py:350: ConvergenceWarning: The max_iter was reached which means the coef_ did not converge\n",
      "  warnings.warn(\n",
      "C:\\Users\\Hatim\\AppData\\Local\\Programs\\Python\\Python39\\lib\\site-packages\\sklearn\\ensemble\\_weight_boosting.py:519: FutureWarning: The SAMME.R algorithm (the default) is deprecated and will be removed in 1.6. Use the SAMME algorithm to circumvent this warning.\n",
      "  warnings.warn(\n",
      "C:\\Users\\Hatim\\AppData\\Local\\Programs\\Python\\Python39\\lib\\site-packages\\sklearn\\neural_network\\_multilayer_perceptron.py:691: ConvergenceWarning: Stochastic Optimizer: Maximum iterations (200) reached and the optimization hasn't converged yet.\n",
      "  warnings.warn(\n"
     ]
    }
   ],
   "execution_count": 14
  },
  {
   "metadata": {
    "ExecuteTime": {
     "end_time": "2024-05-18T11:50:13.800351600Z",
     "start_time": "2024-05-18T11:50:13.768784500Z"
    }
   },
   "cell_type": "code",
   "source": [
    "df_models = pd.DataFrame(accuracy_scores.items(), columns=['model', 'score'])\n",
    "df_models"
   ],
   "id": "4083bf41cf70d67d",
   "outputs": [
    {
     "data": {
      "text/plain": "                 model     score\n0  Logistic Regression  0.872340\n1  K-Nearest Neighbors  0.820331\n2        Decision Tree  0.940898\n3        Random Forest  0.943262\n4                  SVC  0.931442\n5          Naive Bayes  0.515366\n6    Gradient Boosting  0.716312\n7             AdaBoost  0.269504\n8              XGBoost  0.933806\n9       MLP Classifier  0.938534",
      "text/html": "<div>\n<style scoped>\n    .dataframe tbody tr th:only-of-type {\n        vertical-align: middle;\n    }\n\n    .dataframe tbody tr th {\n        vertical-align: top;\n    }\n\n    .dataframe thead th {\n        text-align: right;\n    }\n</style>\n<table border=\"1\" class=\"dataframe\">\n  <thead>\n    <tr style=\"text-align: right;\">\n      <th></th>\n      <th>model</th>\n      <th>score</th>\n    </tr>\n  </thead>\n  <tbody>\n    <tr>\n      <th>0</th>\n      <td>Logistic Regression</td>\n      <td>0.872340</td>\n    </tr>\n    <tr>\n      <th>1</th>\n      <td>K-Nearest Neighbors</td>\n      <td>0.820331</td>\n    </tr>\n    <tr>\n      <th>2</th>\n      <td>Decision Tree</td>\n      <td>0.940898</td>\n    </tr>\n    <tr>\n      <th>3</th>\n      <td>Random Forest</td>\n      <td>0.943262</td>\n    </tr>\n    <tr>\n      <th>4</th>\n      <td>SVC</td>\n      <td>0.931442</td>\n    </tr>\n    <tr>\n      <th>5</th>\n      <td>Naive Bayes</td>\n      <td>0.515366</td>\n    </tr>\n    <tr>\n      <th>6</th>\n      <td>Gradient Boosting</td>\n      <td>0.716312</td>\n    </tr>\n    <tr>\n      <th>7</th>\n      <td>AdaBoost</td>\n      <td>0.269504</td>\n    </tr>\n    <tr>\n      <th>8</th>\n      <td>XGBoost</td>\n      <td>0.933806</td>\n    </tr>\n    <tr>\n      <th>9</th>\n      <td>MLP Classifier</td>\n      <td>0.938534</td>\n    </tr>\n  </tbody>\n</table>\n</div>"
     },
     "execution_count": 16,
     "metadata": {},
     "output_type": "execute_result"
    }
   ],
   "execution_count": 16
  },
  {
   "cell_type": "code",
   "source": [
    "import matplotlib.pyplot as plt\n",
    "\n",
    "plt.figure(figsize=(9, 6))\n",
    "\n",
    "plt.bar('model', 'score', data=df_models.sort_values('score'))\n",
    "plt.ylabel('Accuracy')\n",
    "plt.xlabel('Classifiers')\n",
    "plt.title('Comparison of Different Classifiers')\n",
    "plt.xticks(rotation=45)\n",
    "plt.show()\n"
   ],
   "metadata": {
    "collapsed": false,
    "ExecuteTime": {
     "end_time": "2024-05-18T11:50:23.801655900Z",
     "start_time": "2024-05-18T11:50:22.229457200Z"
    }
   },
   "id": "f8592657c747ab64",
   "outputs": [
    {
     "data": {
      "text/plain": "<Figure size 900x600 with 1 Axes>",
      "image/png": "[encoded data removed]"
     },
     "metadata": {},
     "output_type": "display_data"
    }
   ],
   "execution_count": 17
  },
  {
   "cell_type": "code",
   "source": [
    "import pickle\n",
    "\n",
    "with open(f'files/pipeline_models.pkl', 'wb') as f:\n",
    "    pickle.dump(pipeline_models, f)\n",
    "\n",
    "with open('files/encoder.pkl', 'wb') as f:\n",
    "    pickle.dump(label_encoder, f)\n"
   ],
   "metadata": {
    "collapsed": false,
    "ExecuteTime": {
     "end_time": "2024-05-18T11:51:20.466804500Z",
     "start_time": "2024-05-18T11:51:20.405506500Z"
    }
   },
   "id": "a4812d45b4b5364d",
   "outputs": [],
   "execution_count": 18
  },
  {
   "cell_type": "code",
   "source": [
    "pipeline_models"
   ],
   "metadata": {
    "collapsed": false,
    "ExecuteTime": {
     "start_time": "2024-05-18T11:48:29.062562600Z"
    }
   },
   "id": "a42a1408664aff81",
   "outputs": [],
   "execution_count": null
  },
  {
   "cell_type": "code",
   "outputs": [],
   "source": [],
   "metadata": {
    "collapsed": false,
    "ExecuteTime": {
     "start_time": "2024-05-18T11:48:29.064795100Z"
    }
   },
   "id": "869f4f7327ad8ae0"
  }
 ],
 "metadata": {
  "kernelspec": {
   "display_name": "Python 3",
   "language": "python",
   "name": "python3"
  },
  "language_info": {
   "codemirror_mode": {
    "name": "ipython",
    "version": 2
   },
   "file_extension": ".py",
   "mimetype": "text/x-python",
   "name": "python",
   "nbconvert_exporter": "python",
   "pygments_lexer": "ipython2",
   "version": "2.7.6"
  }
 },
 "nbformat": 4,
 "nbformat_minor": 5
}
