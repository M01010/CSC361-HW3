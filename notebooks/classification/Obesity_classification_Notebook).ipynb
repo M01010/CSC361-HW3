{
 "cells": [
  {
   "cell_type": "code",
   "source": [
    "import numpy as np\n",
    "import pandas as pd\n",
    "\n",
    "df = pd.read_csv('ObesityDataSet.csv')\n",
    "df.head()"
   ],
   "metadata": {
    "collapsed": false,
    "ExecuteTime": {
     "end_time": "2024-05-14T19:02:34.474164600Z",
     "start_time": "2024-05-14T19:02:33.672895400Z"
    }
   },
   "id": "5fb928d3c69b917b",
   "outputs": [
    {
     "data": {
      "text/plain": "   Gender   Age  Height  Weight family_history_with_overweight FAVC  FCVC  \\\n0  Female  21.0    1.62    64.0                            yes   no   2.0   \n1  Female  21.0    1.52    56.0                            yes   no   3.0   \n2    Male  23.0    1.80    77.0                            yes   no   2.0   \n3    Male  27.0    1.80    87.0                             no   no   3.0   \n4    Male  22.0    1.78    89.8                             no   no   2.0   \n\n   NCP       CAEC SMOKE  CH2O  SCC  FAF  TUE        CALC  \\\n0  3.0  Sometimes    no   2.0   no  0.0  1.0          no   \n1  3.0  Sometimes   yes   3.0  yes  3.0  0.0   Sometimes   \n2  3.0  Sometimes    no   2.0   no  2.0  1.0  Frequently   \n3  3.0  Sometimes    no   2.0   no  2.0  0.0  Frequently   \n4  1.0  Sometimes    no   2.0   no  0.0  0.0   Sometimes   \n\n                  MTRANS           NObeyesdad  \n0  Public_Transportation        Normal_Weight  \n1  Public_Transportation        Normal_Weight  \n2  Public_Transportation        Normal_Weight  \n3                Walking   Overweight_Level_I  \n4  Public_Transportation  Overweight_Level_II  ",
      "text/html": "<div>\n<style scoped>\n    .dataframe tbody tr th:only-of-type {\n        vertical-align: middle;\n    }\n\n    .dataframe tbody tr th {\n        vertical-align: top;\n    }\n\n    .dataframe thead th {\n        text-align: right;\n    }\n</style>\n<table border=\"1\" class=\"dataframe\">\n  <thead>\n    <tr style=\"text-align: right;\">\n      <th></th>\n      <th>Gender</th>\n      <th>Age</th>\n      <th>Height</th>\n      <th>Weight</th>\n      <th>family_history_with_overweight</th>\n      <th>FAVC</th>\n      <th>FCVC</th>\n      <th>NCP</th>\n      <th>CAEC</th>\n      <th>SMOKE</th>\n      <th>CH2O</th>\n      <th>SCC</th>\n      <th>FAF</th>\n      <th>TUE</th>\n      <th>CALC</th>\n      <th>MTRANS</th>\n      <th>NObeyesdad</th>\n    </tr>\n  </thead>\n  <tbody>\n    <tr>\n      <th>0</th>\n      <td>Female</td>\n      <td>21.0</td>\n      <td>1.62</td>\n      <td>64.0</td>\n      <td>yes</td>\n      <td>no</td>\n      <td>2.0</td>\n      <td>3.0</td>\n      <td>Sometimes</td>\n      <td>no</td>\n      <td>2.0</td>\n      <td>no</td>\n      <td>0.0</td>\n      <td>1.0</td>\n      <td>no</td>\n      <td>Public_Transportation</td>\n      <td>Normal_Weight</td>\n    </tr>\n    <tr>\n      <th>1</th>\n      <td>Female</td>\n      <td>21.0</td>\n      <td>1.52</td>\n      <td>56.0</td>\n      <td>yes</td>\n      <td>no</td>\n      <td>3.0</td>\n      <td>3.0</td>\n      <td>Sometimes</td>\n      <td>yes</td>\n      <td>3.0</td>\n      <td>yes</td>\n      <td>3.0</td>\n      <td>0.0</td>\n      <td>Sometimes</td>\n      <td>Public_Transportation</td>\n      <td>Normal_Weight</td>\n    </tr>\n    <tr>\n      <th>2</th>\n      <td>Male</td>\n      <td>23.0</td>\n      <td>1.80</td>\n      <td>77.0</td>\n      <td>yes</td>\n      <td>no</td>\n      <td>2.0</td>\n      <td>3.0</td>\n      <td>Sometimes</td>\n      <td>no</td>\n      <td>2.0</td>\n      <td>no</td>\n      <td>2.0</td>\n      <td>1.0</td>\n      <td>Frequently</td>\n      <td>Public_Transportation</td>\n      <td>Normal_Weight</td>\n    </tr>\n    <tr>\n      <th>3</th>\n      <td>Male</td>\n      <td>27.0</td>\n      <td>1.80</td>\n      <td>87.0</td>\n      <td>no</td>\n      <td>no</td>\n      <td>3.0</td>\n      <td>3.0</td>\n      <td>Sometimes</td>\n      <td>no</td>\n      <td>2.0</td>\n      <td>no</td>\n      <td>2.0</td>\n      <td>0.0</td>\n      <td>Frequently</td>\n      <td>Walking</td>\n      <td>Overweight_Level_I</td>\n    </tr>\n    <tr>\n      <th>4</th>\n      <td>Male</td>\n      <td>22.0</td>\n      <td>1.78</td>\n      <td>89.8</td>\n      <td>no</td>\n      <td>no</td>\n      <td>2.0</td>\n      <td>1.0</td>\n      <td>Sometimes</td>\n      <td>no</td>\n      <td>2.0</td>\n      <td>no</td>\n      <td>0.0</td>\n      <td>0.0</td>\n      <td>Sometimes</td>\n      <td>Public_Transportation</td>\n      <td>Overweight_Level_II</td>\n    </tr>\n  </tbody>\n</table>\n</div>"
     },
     "execution_count": 12,
     "metadata": {},
     "output_type": "execute_result"
    }
   ],
   "execution_count": 12
  },
  {
   "cell_type": "code",
   "outputs": [
    {
     "data": {
      "text/plain": "Index(['Gender', 'Age', 'Height', 'Weight', 'family_history_with_overweight',\n       'FAVC', 'FCVC', 'NCP', 'CAEC', 'SMOKE', 'CH2O', 'SCC', 'FAF', 'TUE',\n       'CALC', 'MTRANS', 'NObeyesdad'],\n      dtype='object')"
     },
     "execution_count": 28,
     "metadata": {},
     "output_type": "execute_result"
    }
   ],
   "source": [
    "df.columns"
   ],
   "metadata": {
    "collapsed": false,
    "ExecuteTime": {
     "end_time": "2024-05-14T19:17:42.771803500Z",
     "start_time": "2024-05-14T19:17:42.678354700Z"
    }
   },
   "id": "7db70a15535f9634",
   "execution_count": 28
  },
  {
   "cell_type": "code",
   "source": [
    "from sklearn.preprocessing import StandardScaler, OneHotEncoder\n",
    "from sklearn.compose import ColumnTransformer\n",
    "from sklearn.metrics import accuracy_score\n",
    "from sklearn.pipeline import Pipeline\n",
    "from sklearn.preprocessing import LabelEncoder\n",
    "\n",
    "label_encoder = LabelEncoder()\n",
    "\n",
    "df['NObeyesdad'] = label_encoder.fit_transform(df['NObeyesdad'])\n",
    "\n",
    "numerical_features = df.select_dtypes(include=['int64', 'float64']).columns\n",
    "categorical_features = df.select_dtypes(include=['object']).columns\n",
    "\n",
    "numerical_transformer = Pipeline(steps=[\n",
    "    ('scaler', StandardScaler())])\n",
    "\n",
    "categorical_transformer = Pipeline(steps=[\n",
    "    ('onehot', OneHotEncoder(handle_unknown='ignore'))])\n",
    "\n",
    "preprocessor = ColumnTransformer(\n",
    "    transformers=[\n",
    "        ('num', numerical_transformer, numerical_features),\n",
    "        ('cat', categorical_transformer, categorical_features),\n",
    "    ]\n",
    ")\n"
   ],
   "metadata": {
    "collapsed": false,
    "ExecuteTime": {
     "end_time": "2024-05-14T19:02:35.390136600Z",
     "start_time": "2024-05-14T19:02:35.356388900Z"
    }
   },
   "id": "27c5e37a65a3590e",
   "outputs": [],
   "execution_count": 13
  },
  {
   "metadata": {
    "ExecuteTime": {
     "end_time": "2024-05-14T19:02:36.304432900Z",
     "start_time": "2024-05-14T19:02:36.285022500Z"
    }
   },
   "cell_type": "code",
   "source": [
    "from sklearn.model_selection import train_test_split\n",
    "\n",
    "x = df.drop('NObeyesdad', axis=1)\n",
    "y = df['NObeyesdad']\n",
    "\n",
    "x_train, x_test, y_train, y_test = train_test_split(x, y, test_size=0.2, random_state=42)"
   ],
   "id": "3376bba8a71d1ac7",
   "outputs": [],
   "execution_count": 14
  },
  {
   "metadata": {
    "ExecuteTime": {
     "end_time": "2024-05-14T19:02:37.087494700Z",
     "start_time": "2024-05-14T19:02:36.971599900Z"
    }
   },
   "cell_type": "code",
   "source": [
    "from sklearn.linear_model import LogisticRegression\n",
    "from sklearn.neighbors import KNeighborsClassifier\n",
    "from sklearn.tree import DecisionTreeClassifier\n",
    "from sklearn.ensemble import RandomForestClassifier, GradientBoostingClassifier, AdaBoostClassifier\n",
    "from sklearn.svm import SVC\n",
    "from sklearn.naive_bayes import GaussianNB\n",
    "from sklearn.neural_network import MLPClassifier\n",
    "from xgboost import XGBClassifier\n",
    "\n",
    "models = {\n",
    "    'Logistic Regression': LogisticRegression(max_iter=1000),\n",
    "    'K-Nearest Neighbors': KNeighborsClassifier(),\n",
    "    'Decision Tree': DecisionTreeClassifier(),\n",
    "    'Random Forest': RandomForestClassifier(),\n",
    "    'SVC': SVC(),\n",
    "    'Naive Bayes': GaussianNB(),\n",
    "    'Gradient Boosting': GradientBoostingClassifier(),\n",
    "    'AdaBoost': AdaBoostClassifier(),\n",
    "    'XGBoost': XGBClassifier(use_label_encoder=False, eval_metric='mlogloss'),\n",
    "    'MLP Classifier': MLPClassifier()\n",
    "}\n"
   ],
   "id": "79eb045465631dd0",
   "outputs": [],
   "execution_count": 15
  },
  {
   "metadata": {
    "ExecuteTime": {
     "end_time": "2024-05-14T19:02:45.269464200Z",
     "start_time": "2024-05-14T19:02:38.989561400Z"
    }
   },
   "cell_type": "code",
   "source": [
    "pipeline_models = {}\n",
    "accuracy_scores = {}\n",
    "\n",
    "for name, model in models.items():\n",
    "    pipeline = Pipeline(\n",
    "        steps=[\n",
    "            ('preprocessor', preprocessor),\n",
    "            ('model', model),\n",
    "        ]\n",
    "    )\n",
    "    pipeline.fit(x_train, y_train)\n",
    "    pipeline_models[name] = pipeline\n",
    "\n",
    "    # fill accuracy\n",
    "    y_pred = pipeline.predict(x_test)\n",
    "    accuracy = accuracy_score(y_test, y_pred)\n",
    "    accuracy_scores[name] = accuracy"
   ],
   "id": "5081ea366e1f2fde",
   "outputs": [
    {
     "name": "stderr",
     "output_type": "stream",
     "text": [
      "C:\\Users\\Hatim\\AppData\\Local\\Programs\\Python\\Python39\\lib\\site-packages\\sklearn\\ensemble\\_weight_boosting.py:519: FutureWarning: The SAMME.R algorithm (the default) is deprecated and will be removed in 1.6. Use the SAMME algorithm to circumvent this warning.\n",
      "  warnings.warn(\n",
      "C:\\Users\\Hatim\\AppData\\Local\\Programs\\Python\\Python39\\lib\\site-packages\\sklearn\\neural_network\\_multilayer_perceptron.py:691: ConvergenceWarning: Stochastic Optimizer: Maximum iterations (200) reached and the optimization hasn't converged yet.\n",
      "  warnings.warn(\n"
     ]
    }
   ],
   "execution_count": 16
  },
  {
   "metadata": {
    "ExecuteTime": {
     "end_time": "2024-05-14T19:02:48.821714Z",
     "start_time": "2024-05-14T19:02:48.772624900Z"
    }
   },
   "cell_type": "code",
   "source": [
    "\n",
    "df_models = pd.DataFrame(accuracy_scores.items(), columns=['model', 'score'])\n",
    "df_models.head()"
   ],
   "id": "4083bf41cf70d67d",
   "outputs": [
    {
     "data": {
      "text/plain": "                 model     score\n0  Logistic Regression  0.872340\n1  K-Nearest Neighbors  0.820331\n2        Decision Tree  0.940898\n3        Random Forest  0.936170\n4                  SVC  0.931442",
      "text/html": "<div>\n<style scoped>\n    .dataframe tbody tr th:only-of-type {\n        vertical-align: middle;\n    }\n\n    .dataframe tbody tr th {\n        vertical-align: top;\n    }\n\n    .dataframe thead th {\n        text-align: right;\n    }\n</style>\n<table border=\"1\" class=\"dataframe\">\n  <thead>\n    <tr style=\"text-align: right;\">\n      <th></th>\n      <th>model</th>\n      <th>score</th>\n    </tr>\n  </thead>\n  <tbody>\n    <tr>\n      <th>0</th>\n      <td>Logistic Regression</td>\n      <td>0.872340</td>\n    </tr>\n    <tr>\n      <th>1</th>\n      <td>K-Nearest Neighbors</td>\n      <td>0.820331</td>\n    </tr>\n    <tr>\n      <th>2</th>\n      <td>Decision Tree</td>\n      <td>0.940898</td>\n    </tr>\n    <tr>\n      <th>3</th>\n      <td>Random Forest</td>\n      <td>0.936170</td>\n    </tr>\n    <tr>\n      <th>4</th>\n      <td>SVC</td>\n      <td>0.931442</td>\n    </tr>\n  </tbody>\n</table>\n</div>"
     },
     "execution_count": 17,
     "metadata": {},
     "output_type": "execute_result"
    }
   ],
   "execution_count": 17
  },
  {
   "cell_type": "code",
   "source": [
    "import matplotlib.pyplot as plt\n",
    "\n",
    "plt.figure(figsize=(9, 6))\n",
    "\n",
    "plt.bar('model', 'score', data=df_models.sort_values('score'))\n",
    "plt.ylabel('Accuracy')\n",
    "plt.xlabel('Classifiers')\n",
    "plt.title('Comparison of Different Classifiers')\n",
    "plt.xticks(rotation=45)\n",
    "plt.show()\n"
   ],
   "metadata": {
    "collapsed": false,
    "ExecuteTime": {
     "end_time": "2024-05-14T19:02:55.528721300Z",
     "start_time": "2024-05-14T19:02:54.838055200Z"
    }
   },
   "id": "f8592657c747ab64",
   "outputs": [
    {
     "data": {
      "text/plain": "<Figure size 900x600 with 1 Axes>",
      "image/png": "[encoded data removed]"
     },
     "metadata": {},
     "output_type": "display_data"
    }
   ],
   "execution_count": 18
  },
  {
   "cell_type": "code",
   "source": [
    "import pickle\n",
    "import os\n",
    "\n",
    "# Save each model separately\n",
    "if not os.path.isdir('models'):\n",
    "    os.makedirs('models')\n",
    "\n",
    "for name, pipeline in pipeline_models.items():\n",
    "    model = pipeline.named_steps['model']\n",
    "    with open(f'models/{name}_model.pkl', 'wb') as f:\n",
    "        pickle.dump(model, f)\n"
   ],
   "metadata": {
    "collapsed": false,
    "ExecuteTime": {
     "end_time": "2024-05-14T19:02:56.413528Z",
     "start_time": "2024-05-14T19:02:56.331492600Z"
    }
   },
   "id": "a4812d45b4b5364d",
   "outputs": [],
   "execution_count": 19
  },
  {
   "cell_type": "code",
   "source": [
    "def predict_from_model(model_name, ind):\n",
    "    loaded_pipeline = pipeline_models.get(model_name)\n",
    "    if loaded_pipeline is None:\n",
    "        print(f\"Model '{model_name}' not found!\")\n",
    "        return\n",
    "\n",
    "    data = x_test.iloc[ind:ind+1]\n",
    "    real = y_test.iloc[ind]\n",
    "\n",
    "    predictions = loaded_pipeline.predict(data)\n",
    "    print(\"Predictions:\", predictions)\n",
    "    print(\"Real:\", real)\n"
   ],
   "metadata": {
    "collapsed": false,
    "ExecuteTime": {
     "end_time": "2024-05-14T19:02:57.956964900Z",
     "start_time": "2024-05-14T19:02:57.915024400Z"
    }
   },
   "id": "b79ac8de13d9981a",
   "outputs": [],
   "execution_count": 20
  },
  {
   "cell_type": "code",
   "source": [
    "# Choose the model to use for prediction\n",
    "model_name = 'Logistic Regression'  # Choose the model name from the saved models\n",
    "predict_from_model(model_name, 8)"
   ],
   "metadata": {
    "collapsed": false,
    "ExecuteTime": {
     "end_time": "2024-05-14T19:02:59.024563400Z",
     "start_time": "2024-05-14T19:02:58.949155Z"
    }
   },
   "id": "b9a9e1f7609f0f0",
   "outputs": [
    {
     "name": "stdout",
     "output_type": "stream",
     "text": [
      "Predictions: [2]\n",
      "Real: 2\n"
     ]
    }
   ],
   "execution_count": 21
  },
  {
   "metadata": {
    "ExecuteTime": {
     "end_time": "2024-05-15T10:11:10.700295200Z",
     "start_time": "2024-05-14T19:27:40.243716300Z"
    }
   },
   "cell_type": "code",
   "outputs": [
    {
     "name": "stdout",
     "output_type": "stream",
     "text": [
      " * Serving Flask app '__main__'\n",
      " * Debug mode: off\n"
     ]
    },
    {
     "name": "stderr",
     "output_type": "stream",
     "text": [
      "WARNING: This is a development server. Do not use it in a production deployment. Use a production WSGI server instead.\n",
      " * Running on http://127.0.0.1:5000\n",
      "Press CTRL+C to quit\n",
      "127.0.0.1 - - [14/May/2024 22:27:45] \"GET /classification HTTP/1.1\" 200 -\n"
     ]
    }
   ],
   "execution_count": 31,
   "source": [
    "from flask import Flask, render_template, request\n",
    "import pickle\n",
    "import os\n",
    "\n",
    "app = Flask(__name__)\n",
    "\n",
    "def load_model(model_name):\n",
    "    with open(os.path.join('models', f'{model_name}_model.pkl'), 'rb') as f:\n",
    "        model = pickle.load(f)\n",
    "    return model\n",
    "\n",
    "\n",
    "# Classification page , GPT\n",
    "@app.route('/classification', methods=['GET', 'POST'])\n",
    "def classification():\n",
    "    if request.method == 'POST':\n",
    "        selected_model_name = request.form['model']\n",
    "        selected_model = load_model(selected_model_name)\n",
    "        \n",
    "        # Get user input data from the form\n",
    "        data = [request.form[col] for col in ['age', 'height', 'weight', 'FCVC', 'NCP', 'CH2O', 'FAF', 'TUE']]\n",
    "        \n",
    "        # Process the user input data and make predictions using the selected model\n",
    "        prediction = selected_model.predict([data])  # Assuming selected_model is a trained model\n",
    "        \n",
    "        # Render the classification.html template with the selected model name and prediction\n",
    "        return render_template('classification.html', selected_model_name=selected_model_name, prediction=prediction)\n",
    "    else:\n",
    "        # If it's a GET request, list all model files in the model folder and render the classification.html template\n",
    "        model_files = os.listdir(MODEL_FOLDER)\n",
    "        return render_template('classification.html', model_files=model_files)\n",
    "\n",
    "# Model selection page\n",
    "@app.route('/model_selection', methods=['GET', 'POST'])\n",
    "def model_selection():\n",
    "    if request.method == 'POST':\n",
    "        # If the form is submitted, process the data and redirect to the classification page\n",
    "        return render_template('model_selection.html')\n",
    "    else:\n",
    "        # If it's a GET request, render the model_selection.html template\n",
    "        return render_template('model_selection.html')\n",
    "\n",
    "# Model result page\n",
    "@app.route('/model_result', methods=['GET', 'POST'])\n",
    "def model_result():\n",
    "    if request.method == 'POST':\n",
    "        # If the form is submitted, process the data and render the model_result.html template\n",
    "        return render_template('model_result.html')\n",
    "    else:\n",
    "        # If it's a GET request, render the model_result.html template\n",
    "        return render_template('model_result.html')\n",
    "\n",
    "if __name__ == '__main__':\n",
    "    app.run()\n"
   ],
   "id": "3230c0e53996395"
  },
  {
   "cell_type": "code",
   "outputs": [
    {
     "name": "stdout",
     "output_type": "stream",
     "text": [
      " * Serving Flask app '__main__'\n",
      " * Debug mode: off\n"
     ]
    },
    {
     "name": "stderr",
     "output_type": "stream",
     "text": [
      "WARNING: This is a development server. Do not use it in a production deployment. Use a production WSGI server instead.\n",
      " * Running on http://127.0.0.1:5000\n",
      "Press CTRL+C to quit\n",
      "127.0.0.1 - - [15/May/2024 13:44:30] \"GET /classification HTTP/1.1\" 200 -\n",
      "127.0.0.1 - - [15/May/2024 13:44:32] \"GET /classification HTTP/1.1\" 200 -\n",
      "127.0.0.1 - - [15/May/2024 13:44:34] \"GET /classification HTTP/1.1\" 200 -\n",
      "[2024-05-15 13:45:07,250] ERROR in app: Exception on /classification [POST]\n",
      "Traceback (most recent call last):\n",
      "  File \"C:\\Users\\Hatim\\AppData\\Local\\Programs\\Python\\Python39\\lib\\site-packages\\flask\\app.py\", line 1473, in wsgi_app\n",
      "    response = self.full_dispatch_request()\n",
      "  File \"C:\\Users\\Hatim\\AppData\\Local\\Programs\\Python\\Python39\\lib\\site-packages\\flask\\app.py\", line 882, in full_dispatch_request\n",
      "    rv = self.handle_user_exception(e)\n",
      "  File \"C:\\Users\\Hatim\\AppData\\Local\\Programs\\Python\\Python39\\lib\\site-packages\\flask\\app.py\", line 880, in full_dispatch_request\n",
      "    rv = self.dispatch_request()\n",
      "  File \"C:\\Users\\Hatim\\AppData\\Local\\Programs\\Python\\Python39\\lib\\site-packages\\flask\\app.py\", line 865, in dispatch_request\n",
      "    return self.ensure_sync(self.view_functions[rule.endpoint])(**view_args)  # type: ignore[no-any-return]\n",
      "  File \"C:\\Users\\Hatim\\AppData\\Local\\Temp\\ipykernel_19508\\1944122293.py\", line 35, in classification\n",
      "    prediction = selected_model.predict([data])[0]  # Assuming selected_model is a trained model\n",
      "  File \"C:\\Users\\Hatim\\AppData\\Local\\Programs\\Python\\Python39\\lib\\site-packages\\sklearn\\linear_model\\_base.py\", line 351, in predict\n",
      "    scores = self.decision_function(X)\n",
      "  File \"C:\\Users\\Hatim\\AppData\\Local\\Programs\\Python\\Python39\\lib\\site-packages\\sklearn\\linear_model\\_base.py\", line 332, in decision_function\n",
      "    X = self._validate_data(X, accept_sparse=\"csr\", reset=False)\n",
      "  File \"C:\\Users\\Hatim\\AppData\\Local\\Programs\\Python\\Python39\\lib\\site-packages\\sklearn\\base.py\", line 633, in _validate_data\n",
      "    out = check_array(X, input_name=\"X\", **check_params)\n",
      "  File \"C:\\Users\\Hatim\\AppData\\Local\\Programs\\Python\\Python39\\lib\\site-packages\\sklearn\\utils\\validation.py\", line 1038, in check_array\n",
      "    raise ValueError(\n",
      "ValueError: dtype='numeric' is not compatible with arrays of bytes/strings.Convert your data to numeric values explicitly instead.\n",
      "127.0.0.1 - - [15/May/2024 13:45:07] \"POST /classification HTTP/1.1\" 500 -\n",
      "127.0.0.1 - - [15/May/2024 13:45:28] \"GET /model_result HTTP/1.1\" 404 -\n",
      "127.0.0.1 - - [15/May/2024 13:46:00] \"GET /model_result/<prediction> HTTP/1.1\" 200 -\n"
     ]
    }
   ],
   "source": [
    "from flask import Flask, render_template, request, redirect, url_for\n",
    "import pickle\n",
    "import os\n",
    "\n",
    "app = Flask(__name__)\n",
    "\n",
    "\n",
    "def load_model(model_name):\n",
    "    with open(os.path.join('models', f'{model_name}_model.pkl'), 'rb') as f:\n",
    "        model = pickle.load(f)\n",
    "    return model\n",
    "\n",
    "# Classification page\n",
    "@app.route('/classification', methods=['GET', 'POST'])\n",
    "def classification():\n",
    "    if request.method == 'POST':\n",
    "        # If the form is submitted, get the selected model name\n",
    "        selected_model_name = request.form['model']\n",
    "        # Load the selected model\n",
    "        selected_model = load_model(selected_model_name)\n",
    "        \n",
    "        # Get user input data from the form\n",
    "        data = [request.form[col] for col in ['Age', 'Height', 'Weight', 'FCVC', 'NCP', 'CH2O', 'FAF', 'TUE']]\n",
    "        \n",
    "        # Check for missing values in the input data\n",
    "        if None in data:\n",
    "            return \"Please fill in all fields before submitting the form.\"\n",
    "        \n",
    "        # Process the user input data and make predictions using the selected model\n",
    "        prediction = selected_model.predict([data])[0]  # Assuming selected_model is a trained model\n",
    "        \n",
    "        # Redirect to the model result page with the prediction value\n",
    "        return redirect(url_for('model_result', prediction=prediction))\n",
    "    else:\n",
    "        # If it's a GET request, list all model files in the model folder and render the classification.html template\n",
    "        model_files = [file[:-10] for file in os.listdir(MODEL_FOLDER) if file.endswith('_model.pkl')]\n",
    "        return render_template('classification.html', model_files=model_files)\n",
    "\n",
    "# Model result page\n",
    "@app.route('/model_result/<prediction>')\n",
    "def model_result(prediction):\n",
    "    return render_template('model_result.html', prediction=prediction)\n",
    "\n",
    "if __name__ == '__main__':\n",
    "    app.run()\n"
   ],
   "metadata": {
    "collapsed": false,
    "is_executing": true,
    "ExecuteTime": {
     "start_time": "2024-05-15T10:44:25.864354100Z"
    }
   },
   "id": "9723750ce82d3cb8",
   "execution_count": null
  },
  {
   "cell_type": "code",
   "outputs": [],
   "source": [],
   "metadata": {
    "collapsed": false
   },
   "id": "a42a1408664aff81"
  }
 ],
 "metadata": {
  "kernelspec": {
   "display_name": "Python 3",
   "language": "python",
   "name": "python3"
  },
  "language_info": {
   "codemirror_mode": {
    "name": "ipython",
    "version": 2
   },
   "file_extension": ".py",
   "mimetype": "text/x-python",
   "name": "python",
   "nbconvert_exporter": "python",
   "pygments_lexer": "ipython2",
   "version": "2.7.6"
  }
 },
 "nbformat": 4,
 "nbformat_minor": 5
}
