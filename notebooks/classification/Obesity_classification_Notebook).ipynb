{
 "cells": [
  {
   "cell_type": "code",
   "source": [
    "import numpy as np\n",
    "import pandas as pd\n",
    "\n",
    "df = pd.read_csv('ObesityDataSet.csv')\n",
    "df.head()"
   ],
   "metadata": {
    "collapsed": false,
    "ExecuteTime": {
     "end_time": "2024-05-14T19:02:34.474164600Z",
     "start_time": "2024-05-14T19:02:33.672895400Z"
    }
   },
   "id": "5fb928d3c69b917b",
   "execution_count": 12,
   "outputs": []
  },
  {
   "cell_type": "code",
   "source": [
    "df.columns"
   ],
   "metadata": {
    "collapsed": false,
    "ExecuteTime": {
     "end_time": "2024-05-14T19:17:42.771803500Z",
     "start_time": "2024-05-14T19:17:42.678354700Z"
    }
   },
   "id": "7db70a15535f9634",
   "execution_count": 28,
   "outputs": []
  },
  {
   "cell_type": "code",
   "source": [
    "from sklearn.preprocessing import StandardScaler, OneHotEncoder\n",
    "from sklearn.compose import ColumnTransformer\n",
    "from sklearn.metrics import accuracy_score\n",
    "from sklearn.pipeline import Pipeline\n",
    "from sklearn.preprocessing import LabelEncoder\n",
    "\n",
    "label_encoder = LabelEncoder()\n",
    "\n",
    "df['NObeyesdad'] = label_encoder.fit_transform(df['NObeyesdad'])\n",
    "\n",
    "numerical_features = df.select_dtypes(include=['int64', 'float64']).columns\n",
    "categorical_features = df.select_dtypes(include=['object']).columns\n",
    "\n",
    "numerical_transformer = Pipeline(steps=[\n",
    "    ('scaler', StandardScaler())])\n",
    "\n",
    "categorical_transformer = Pipeline(steps=[\n",
    "    ('onehot', OneHotEncoder(handle_unknown='ignore'))])\n",
    "\n",
    "preprocessor = ColumnTransformer(\n",
    "    transformers=[\n",
    "        ('num', numerical_transformer, numerical_features),\n",
    "        ('cat', categorical_transformer, categorical_features),\n",
    "    ]\n",
    ")\n"
   ],
   "metadata": {
    "collapsed": false,
    "ExecuteTime": {
     "end_time": "2024-05-14T19:02:35.390136600Z",
     "start_time": "2024-05-14T19:02:35.356388900Z"
    }
   },
   "id": "27c5e37a65a3590e",
   "execution_count": 13,
   "outputs": []
  },
  {
   "metadata": {
    "ExecuteTime": {
     "end_time": "2024-05-14T19:02:36.304432900Z",
     "start_time": "2024-05-14T19:02:36.285022500Z"
    }
   },
   "cell_type": "code",
   "source": [
    "from sklearn.model_selection import train_test_split\n",
    "\n",
    "x = df.drop('NObeyesdad', axis=1)\n",
    "y = df['NObeyesdad']\n",
    "\n",
    "x_train, x_test, y_train, y_test = train_test_split(x, y, test_size=0.2, random_state=42)"
   ],
   "id": "3376bba8a71d1ac7",
   "execution_count": 14,
   "outputs": []
  },
  {
   "metadata": {
    "ExecuteTime": {
     "end_time": "2024-05-14T19:02:37.087494700Z",
     "start_time": "2024-05-14T19:02:36.971599900Z"
    }
   },
   "cell_type": "code",
   "source": [
    "from sklearn.linear_model import LogisticRegression\n",
    "from sklearn.neighbors import KNeighborsClassifier\n",
    "from sklearn.tree import DecisionTreeClassifier\n",
    "from sklearn.ensemble import RandomForestClassifier, GradientBoostingClassifier, AdaBoostClassifier\n",
    "from sklearn.svm import SVC\n",
    "from sklearn.naive_bayes import GaussianNB\n",
    "from sklearn.neural_network import MLPClassifier\n",
    "from xgboost import XGBClassifier\n",
    "\n",
    "models = {\n",
    "    'Logistic Regression': LogisticRegression(max_iter=1000),\n",
    "    'K-Nearest Neighbors': KNeighborsClassifier(),\n",
    "    'Decision Tree': DecisionTreeClassifier(),\n",
    "    'Random Forest': RandomForestClassifier(),\n",
    "    'SVC': SVC(),\n",
    "    'Naive Bayes': GaussianNB(),\n",
    "    'Gradient Boosting': GradientBoostingClassifier(),\n",
    "    'AdaBoost': AdaBoostClassifier(),\n",
    "    'XGBoost': XGBClassifier(use_label_encoder=False, eval_metric='mlogloss'),\n",
    "    'MLP Classifier': MLPClassifier()\n",
    "}\n"
   ],
   "id": "79eb045465631dd0",
   "execution_count": 15,
   "outputs": []
  },
  {
   "metadata": {
    "ExecuteTime": {
     "end_time": "2024-05-14T19:02:45.269464200Z",
     "start_time": "2024-05-14T19:02:38.989561400Z"
    }
   },
   "cell_type": "code",
   "source": [
    "pipeline_models = {}\n",
    "accuracy_scores = {}\n",
    "\n",
    "for name, model in models.items():\n",
    "    pipeline = Pipeline(\n",
    "        steps=[\n",
    "            ('preprocessor', preprocessor),\n",
    "            ('model', model),\n",
    "        ]\n",
    "    )\n",
    "    pipeline.fit(x_train, y_train)\n",
    "    pipeline_models[name] = pipeline\n",
    "\n",
    "    # fill accuracy\n",
    "    y_pred = pipeline.predict(x_test)\n",
    "    accuracy = accuracy_score(y_test, y_pred)\n",
    "    accuracy_scores[name] = accuracy"
   ],
   "id": "5081ea366e1f2fde",
   "execution_count": 16,
   "outputs": []
  },
  {
   "metadata": {
    "ExecuteTime": {
     "end_time": "2024-05-14T19:02:48.821714Z",
     "start_time": "2024-05-14T19:02:48.772624900Z"
    }
   },
   "cell_type": "code",
   "source": [
    "\n",
    "df_models = pd.DataFrame(accuracy_scores.items(), columns=['model', 'score'])\n",
    "df_models.head()"
   ],
   "id": "4083bf41cf70d67d",
   "execution_count": 17,
   "outputs": []
  },
  {
   "cell_type": "code",
   "source": [
    "import matplotlib.pyplot as plt\n",
    "\n",
    "plt.figure(figsize=(9, 6))\n",
    "\n",
    "plt.bar('model', 'score', data=df_models.sort_values('score'))\n",
    "plt.ylabel('Accuracy')\n",
    "plt.xlabel('Classifiers')\n",
    "plt.title('Comparison of Different Classifiers')\n",
    "plt.xticks(rotation=45)\n",
    "plt.show()\n"
   ],
   "metadata": {
    "collapsed": false,
    "ExecuteTime": {
     "end_time": "2024-05-14T19:02:55.528721300Z",
     "start_time": "2024-05-14T19:02:54.838055200Z"
    }
   },
   "id": "f8592657c747ab64",
   "execution_count": 18,
   "outputs": []
  },
  {
   "cell_type": "code",
   "source": [
    "import pickle\n",
    "import os\n",
    "\n",
    "# Save each model separately\n",
    "if not os.path.isdir('models'):\n",
    "    os.makedirs('models')\n",
    "\n",
    "for name, pipeline in pipeline_models.items():\n",
    "    model = pipeline.named_steps['model']\n",
    "    with open(f'models/{name}_model.pkl', 'wb') as f:\n",
    "        pickle.dump(model, f)\n"
   ],
   "metadata": {
    "collapsed": false,
    "ExecuteTime": {
     "end_time": "2024-05-14T19:02:56.413528Z",
     "start_time": "2024-05-14T19:02:56.331492600Z"
    }
   },
   "id": "a4812d45b4b5364d",
   "execution_count": 19,
   "outputs": []
  },
  {
   "cell_type": "code",
   "source": [
    "def predict_from_model(model_name, ind):\n",
    "    loaded_pipeline = pipeline_models.get(model_name)\n",
    "    if loaded_pipeline is None:\n",
    "        print(f\"Model '{model_name}' not found!\")\n",
    "        return\n",
    "\n",
    "    data = x_test.iloc[ind:ind+1]\n",
    "    real = y_test.iloc[ind]\n",
    "\n",
    "    predictions = loaded_pipeline.predict(data)\n",
    "    print(\"Predictions:\", predictions)\n",
    "    print(\"Real:\", real)\n"
   ],
   "metadata": {
    "collapsed": false,
    "ExecuteTime": {
     "end_time": "2024-05-14T19:02:57.956964900Z",
     "start_time": "2024-05-14T19:02:57.915024400Z"
    }
   },
   "id": "b79ac8de13d9981a",
   "execution_count": 20,
   "outputs": []
  },
  {
   "cell_type": "code",
   "source": [
    "# Choose the model to use for prediction\n",
    "model_name = 'Logistic Regression'  # Choose the model name from the saved models\n",
    "predict_from_model(model_name, 8)"
   ],
   "metadata": {
    "collapsed": false,
    "ExecuteTime": {
     "end_time": "2024-05-14T19:02:59.024563400Z",
     "start_time": "2024-05-14T19:02:58.949155Z"
    }
   },
   "id": "b9a9e1f7609f0f0",
   "execution_count": 21,
   "outputs": []
  },
  {
   "metadata": {
    "ExecuteTime": {
     "end_time": "2024-05-15T10:11:10.700295200Z",
     "start_time": "2024-05-14T19:27:40.243716300Z"
    }
   },
   "cell_type": "code",
   "execution_count": 31,
   "source": [
    "from flask import Flask, render_template, request\n",
    "import pickle\n",
    "import os\n",
    "\n",
    "app = Flask(__name__)\n",
    "\n",
    "def load_model(model_name):\n",
    "    with open(os.path.join('models', f'{model_name}_model.pkl'), 'rb') as f:\n",
    "        model = pickle.load(f)\n",
    "    return model\n",
    "\n",
    "\n",
    "# Classification page , GPT\n",
    "@app.route('/classification', methods=['GET', 'POST'])\n",
    "def classification():\n",
    "    if request.method == 'POST':\n",
    "        selected_model_name = request.form['model']\n",
    "        selected_model = load_model(selected_model_name)\n",
    "        \n",
    "        # Get user input data from the form\n",
    "        data = [request.form[col] for col in ['age', 'height', 'weight', 'FCVC', 'NCP', 'CH2O', 'FAF', 'TUE']]\n",
    "        \n",
    "        # Process the user input data and make predictions using the selected model\n",
    "        prediction = selected_model.predict([data])  # Assuming selected_model is a trained model\n",
    "        \n",
    "        # Render the classification.html template with the selected model name and prediction\n",
    "        return render_template('classification.html', selected_model_name=selected_model_name, prediction=prediction)\n",
    "    else:\n",
    "        # If it's a GET request, list all model files in the model folder and render the classification.html template\n",
    "        model_files = os.listdir(MODEL_FOLDER)\n",
    "        return render_template('classification.html', model_files=model_files)\n",
    "\n",
    "# Model selection page\n",
    "@app.route('/model_selection', methods=['GET', 'POST'])\n",
    "def model_selection():\n",
    "    if request.method == 'POST':\n",
    "        # If the form is submitted, process the data and redirect to the classification page\n",
    "        return render_template('model_selection.html')\n",
    "    else:\n",
    "        # If it's a GET request, render the model_selection.html template\n",
    "        return render_template('model_selection.html')\n",
    "\n",
    "# Model result page\n",
    "@app.route('/model_result', methods=['GET', 'POST'])\n",
    "def model_result():\n",
    "    if request.method == 'POST':\n",
    "        # If the form is submitted, process the data and render the model_result.html template\n",
    "        return render_template('model_result.html')\n",
    "    else:\n",
    "        # If it's a GET request, render the model_result.html template\n",
    "        return render_template('model_result.html')\n",
    "\n",
    "if __name__ == '__main__':\n",
    "    app.run()\n"
   ],
   "id": "3230c0e53996395",
   "outputs": []
  },
  {
   "cell_type": "code",
   "source": [
    "from flask import Flask, render_template, request, redirect, url_for\n",
    "import pickle\n",
    "import os\n",
    "\n",
    "app = Flask(__name__)\n",
    "\n",
    "\n",
    "def load_model(model_name):\n",
    "    with open(os.path.join('models', f'{model_name}_model.pkl'), 'rb') as f:\n",
    "        model = pickle.load(f)\n",
    "    return model\n",
    "\n",
    "# Classification page\n",
    "@app.route('/classification', methods=['GET', 'POST'])\n",
    "def classification():\n",
    "    if request.method == 'POST':\n",
    "        # If the form is submitted, get the selected model name\n",
    "        selected_model_name = request.form['model']\n",
    "        # Load the selected model\n",
    "        selected_model = load_model(selected_model_name)\n",
    "        \n",
    "        # Get user input data from the form\n",
    "        data = [request.form[col] for col in ['Age', 'Height', 'Weight', 'FCVC', 'NCP', 'CH2O', 'FAF', 'TUE']]\n",
    "        \n",
    "        # Check for missing values in the input data\n",
    "        if None in data:\n",
    "            return \"Please fill in all fields before submitting the form.\"\n",
    "        \n",
    "        # Process the user input data and make predictions using the selected model\n",
    "        prediction = selected_model.predict([data])[0]  # Assuming selected_model is a trained model\n",
    "        \n",
    "        # Redirect to the model result page with the prediction value\n",
    "        return redirect(url_for('model_result', prediction=prediction))\n",
    "    else:\n",
    "        # If it's a GET request, list all model files in the model folder and render the classification.html template\n",
    "        model_files = [file[:-10] for file in os.listdir(MODEL_FOLDER) if file.endswith('_model.pkl')]\n",
    "        return render_template('classification.html', model_files=model_files)\n",
    "\n",
    "# Model result page\n",
    "@app.route('/model_result/<prediction>')\n",
    "def model_result(prediction):\n",
    "    return render_template('model_result.html', prediction=prediction)\n",
    "\n",
    "if __name__ == '__main__':\n",
    "    app.run()\n"
   ],
   "metadata": {
    "collapsed": false,
    "is_executing": true,
    "ExecuteTime": {
     "start_time": "2024-05-15T10:44:25.864354100Z"
    }
   },
   "id": "9723750ce82d3cb8",
   "execution_count": null,
   "outputs": []
  },
  {
   "cell_type": "code",
   "source": [],
   "metadata": {
    "collapsed": false
   },
   "id": "a42a1408664aff81",
   "execution_count": null,
   "outputs": []
  }
 ],
 "metadata": {
  "kernelspec": {
   "display_name": "Python 3",
   "language": "python",
   "name": "python3"
  },
  "language_info": {
   "codemirror_mode": {
    "name": "ipython",
    "version": 2
   },
   "file_extension": ".py",
   "mimetype": "text/x-python",
   "name": "python",
   "nbconvert_exporter": "python",
   "pygments_lexer": "ipython2",
   "version": "2.7.6"
  }
 },
 "nbformat": 4,
 "nbformat_minor": 5
}
