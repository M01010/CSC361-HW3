{
 "cells": [
  {
   "metadata": {
    "ExecuteTime": {
     "end_time": "2024-05-12T08:43:43.228223Z",
     "start_time": "2024-05-12T08:42:21.864862Z"
    }
   },
   "cell_type": "code",
   "source": [
    "%pip install pandas matplotlib scikit-learn"
   ],
   "id": "67a8c71bdf5b3583",
   "outputs": [
    {
     "name": "stdout",
     "output_type": "stream",
     "text": [
      "Collecting pandas\n",
      "  Obtaining dependency information for pandas from https://files.pythonhosted.org/packages/22/a5/a0b255295406ed54269814bc93723cfd1a0da63fb9aaf99e1364f07923e5/pandas-2.2.2-cp312-cp312-win_amd64.whl.metadata\n",
      "  Downloading pandas-2.2.2-cp312-cp312-win_amd64.whl.metadata (19 kB)\n",
      "Collecting matplotlib\n",
      "  Obtaining dependency information for matplotlib from https://files.pythonhosted.org/packages/7d/ca/e7bd1876a341ed8c456095962a582696cac1691cb6e55bd5ead15a755c5d/matplotlib-3.8.4-cp312-cp312-win_amd64.whl.metadata\n",
      "  Downloading matplotlib-3.8.4-cp312-cp312-win_amd64.whl.metadata (5.9 kB)\n",
      "Collecting scikit-learn\n",
      "  Obtaining dependency information for scikit-learn from https://files.pythonhosted.org/packages/40/77/91f92b2fddbd14201bf36cd0c0e7279f1501a88e7a00ef11261c4b95bb7a/scikit_learn-1.4.2-cp312-cp312-win_amd64.whl.metadata\n",
      "  Downloading scikit_learn-1.4.2-cp312-cp312-win_amd64.whl.metadata (11 kB)\n",
      "Collecting numpy>=1.26.0 (from pandas)\n",
      "  Obtaining dependency information for numpy>=1.26.0 from https://files.pythonhosted.org/packages/16/2e/86f24451c2d530c88daf997cb8d6ac622c1d40d19f5a031ed68a4b73a374/numpy-1.26.4-cp312-cp312-win_amd64.whl.metadata\n",
      "  Using cached numpy-1.26.4-cp312-cp312-win_amd64.whl.metadata (61 kB)\n",
      "Requirement already satisfied: python-dateutil>=2.8.2 in c:\\users\\mo\\pycharmprojects\\csc361-project-3\\.venv\\lib\\site-packages (from pandas) (2.9.0.post0)\n",
      "Collecting pytz>=2020.1 (from pandas)\n",
      "  Obtaining dependency information for pytz>=2020.1 from https://files.pythonhosted.org/packages/9c/3d/a121f284241f08268b21359bd425f7d4825cffc5ac5cd0e1b3d82ffd2b10/pytz-2024.1-py2.py3-none-any.whl.metadata\n",
      "  Using cached pytz-2024.1-py2.py3-none-any.whl.metadata (22 kB)\n",
      "Collecting tzdata>=2022.7 (from pandas)\n",
      "  Obtaining dependency information for tzdata>=2022.7 from https://files.pythonhosted.org/packages/65/58/f9c9e6be752e9fcb8b6a0ee9fb87e6e7a1f6bcab2cdc73f02bb7ba91ada0/tzdata-2024.1-py2.py3-none-any.whl.metadata\n",
      "  Using cached tzdata-2024.1-py2.py3-none-any.whl.metadata (1.4 kB)\n",
      "Collecting contourpy>=1.0.1 (from matplotlib)\n",
      "  Obtaining dependency information for contourpy>=1.0.1 from https://files.pythonhosted.org/packages/78/38/a046bb0ebce6f530175d434e7364149e338ffe1069ee286ed8ba7f6481ee/contourpy-1.2.1-cp312-cp312-win_amd64.whl.metadata\n",
      "  Downloading contourpy-1.2.1-cp312-cp312-win_amd64.whl.metadata (5.8 kB)\n",
      "Collecting cycler>=0.10 (from matplotlib)\n",
      "  Obtaining dependency information for cycler>=0.10 from https://files.pythonhosted.org/packages/e7/05/c19819d5e3d95294a6f5947fb9b9629efb316b96de511b418c53d245aae6/cycler-0.12.1-py3-none-any.whl.metadata\n",
      "  Using cached cycler-0.12.1-py3-none-any.whl.metadata (3.8 kB)\n",
      "Collecting fonttools>=4.22.0 (from matplotlib)\n",
      "  Obtaining dependency information for fonttools>=4.22.0 from https://files.pythonhosted.org/packages/56/85/0a77382e3dd8528d7f13ee97415c82b36c4879023f226e2b98d012fce077/fonttools-4.51.0-cp312-cp312-win_amd64.whl.metadata\n",
      "  Downloading fonttools-4.51.0-cp312-cp312-win_amd64.whl.metadata (162 kB)\n",
      "     ---------------------------------------- 0.0/162.8 kB ? eta -:--:--\n",
      "     ----- ---------------------------------- 20.5/162.8 kB ? eta -:--:--\n",
      "     --------- --------------------------- 41.0/162.8 kB 653.6 kB/s eta 0:00:01\n",
      "     --------- --------------------------- 41.0/162.8 kB 653.6 kB/s eta 0:00:01\n",
      "     --------- --------------------------- 41.0/162.8 kB 653.6 kB/s eta 0:00:01\n",
      "     --------------------------- -------- 122.9/162.8 kB 599.1 kB/s eta 0:00:01\n",
      "     --------------------------- -------- 122.9/162.8 kB 599.1 kB/s eta 0:00:01\n",
      "     ------------------------------------ 162.8/162.8 kB 513.5 kB/s eta 0:00:00\n",
      "Collecting kiwisolver>=1.3.1 (from matplotlib)\n",
      "  Obtaining dependency information for kiwisolver>=1.3.1 from https://files.pythonhosted.org/packages/63/50/2746566bdf4a6a842d117367d05c90cfb87ac04e9e2845aa1fa21f071362/kiwisolver-1.4.5-cp312-cp312-win_amd64.whl.metadata\n",
      "  Using cached kiwisolver-1.4.5-cp312-cp312-win_amd64.whl.metadata (6.5 kB)\n",
      "Requirement already satisfied: packaging>=20.0 in c:\\users\\mo\\pycharmprojects\\csc361-project-3\\.venv\\lib\\site-packages (from matplotlib) (24.0)\n",
      "Collecting pillow>=8 (from matplotlib)\n",
      "  Obtaining dependency information for pillow>=8 from https://files.pythonhosted.org/packages/d3/23/3927d888481ff7c44fdbca3bc2a2e97588c933db46723bf115201377c436/pillow-10.3.0-cp312-cp312-win_amd64.whl.metadata\n",
      "  Using cached pillow-10.3.0-cp312-cp312-win_amd64.whl.metadata (9.4 kB)\n",
      "Collecting pyparsing>=2.3.1 (from matplotlib)\n",
      "  Obtaining dependency information for pyparsing>=2.3.1 from https://files.pythonhosted.org/packages/9d/ea/6d76df31432a0e6fdf81681a895f009a4bb47b3c39036db3e1b528191d52/pyparsing-3.1.2-py3-none-any.whl.metadata\n",
      "  Using cached pyparsing-3.1.2-py3-none-any.whl.metadata (5.1 kB)\n",
      "Collecting scipy>=1.6.0 (from scikit-learn)\n",
      "  Obtaining dependency information for scipy>=1.6.0 from https://files.pythonhosted.org/packages/ed/6f/ba2b2f14391291dd47d17da78c3ee644fb3a2fd6bddde664381c1968eda9/scipy-1.13.0-cp312-cp312-win_amd64.whl.metadata\n",
      "  Downloading scipy-1.13.0-cp312-cp312-win_amd64.whl.metadata (60 kB)\n",
      "     ---------------------------------------- 0.0/60.6 kB ? eta -:--:--\n",
      "     ---------------------------------------- 60.6/60.6 kB 1.6 MB/s eta 0:00:00\n",
      "Collecting joblib>=1.2.0 (from scikit-learn)\n",
      "  Obtaining dependency information for joblib>=1.2.0 from https://files.pythonhosted.org/packages/91/29/df4b9b42f2be0b623cbd5e2140cafcaa2bef0759a00b7b70104dcfe2fb51/joblib-1.4.2-py3-none-any.whl.metadata\n",
      "  Downloading joblib-1.4.2-py3-none-any.whl.metadata (5.4 kB)\n",
      "Collecting threadpoolctl>=2.0.0 (from scikit-learn)\n",
      "  Obtaining dependency information for threadpoolctl>=2.0.0 from https://files.pythonhosted.org/packages/4b/2c/ffbf7a134b9ab11a67b0cf0726453cedd9c5043a4fe7a35d1cefa9a1bcfb/threadpoolctl-3.5.0-py3-none-any.whl.metadata\n",
      "  Downloading threadpoolctl-3.5.0-py3-none-any.whl.metadata (13 kB)\n",
      "Requirement already satisfied: six>=1.5 in c:\\users\\mo\\pycharmprojects\\csc361-project-3\\.venv\\lib\\site-packages (from python-dateutil>=2.8.2->pandas) (1.16.0)\n",
      "Downloading pandas-2.2.2-cp312-cp312-win_amd64.whl (11.5 MB)\n",
      "   ---------------------------------------- 0.0/11.5 MB ? eta -:--:--\n",
      "    --------------------------------------- 0.2/11.5 MB ? eta -:--:--\n",
      "   - -------------------------------------- 0.3/11.5 MB 4.1 MB/s eta 0:00:03\n",
      "   - -------------------------------------- 0.4/11.5 MB 3.9 MB/s eta 0:00:03\n",
      "   - -------------------------------------- 0.4/11.5 MB 3.9 MB/s eta 0:00:03\n",
      "   --- ------------------------------------ 1.0/11.5 MB 4.7 MB/s eta 0:00:03\n",
      "   --- ------------------------------------ 1.0/11.5 MB 4.7 MB/s eta 0:00:03\n",
      "   ---- ----------------------------------- 1.3/11.5 MB 3.8 MB/s eta 0:00:03\n",
      "   ---- ----------------------------------- 1.3/11.5 MB 3.9 MB/s eta 0:00:03\n",
      "   ----- ---------------------------------- 1.6/11.5 MB 3.7 MB/s eta 0:00:03\n",
      "   ------ --------------------------------- 1.9/11.5 MB 4.0 MB/s eta 0:00:03\n",
      "   ------- -------------------------------- 2.2/11.5 MB 4.2 MB/s eta 0:00:03\n",
      "   -------- ------------------------------- 2.5/11.5 MB 4.4 MB/s eta 0:00:03\n",
      "   ---------- ----------------------------- 2.9/11.5 MB 4.8 MB/s eta 0:00:02\n",
      "   ----------- ---------------------------- 3.2/11.5 MB 5.0 MB/s eta 0:00:02\n",
      "   ------------ --------------------------- 3.7/11.5 MB 5.2 MB/s eta 0:00:02\n",
      "   ------------- -------------------------- 4.0/11.5 MB 5.4 MB/s eta 0:00:02\n",
      "   --------------- ------------------------ 4.4/11.5 MB 5.5 MB/s eta 0:00:02\n",
      "   --------------- ------------------------ 4.6/11.5 MB 5.5 MB/s eta 0:00:02\n",
      "   ----------------- ---------------------- 5.2/11.5 MB 5.8 MB/s eta 0:00:02\n",
      "   ------------------ --------------------- 5.3/11.5 MB 5.7 MB/s eta 0:00:02\n",
      "   -------------------- ------------------- 5.8/11.5 MB 5.9 MB/s eta 0:00:01\n",
      "   --------------------- ------------------ 6.1/11.5 MB 5.9 MB/s eta 0:00:01\n",
      "   ---------------------- ----------------- 6.5/11.5 MB 6.0 MB/s eta 0:00:01\n",
      "   ----------------------- ---------------- 6.9/11.5 MB 6.1 MB/s eta 0:00:01\n",
      "   ------------------------- -------------- 7.3/11.5 MB 6.2 MB/s eta 0:00:01\n",
      "   -------------------------- ------------- 7.7/11.5 MB 6.3 MB/s eta 0:00:01\n",
      "   ---------------------------- ----------- 8.1/11.5 MB 6.4 MB/s eta 0:00:01\n",
      "   ----------------------------- ---------- 8.5/11.5 MB 6.5 MB/s eta 0:00:01\n",
      "   ------------------------------ --------- 8.9/11.5 MB 6.5 MB/s eta 0:00:01\n",
      "   -------------------------------- ------- 9.3/11.5 MB 6.6 MB/s eta 0:00:01\n",
      "   --------------------------------- ------ 9.7/11.5 MB 6.6 MB/s eta 0:00:01\n",
      "   ----------------------------------- ---- 10.1/11.5 MB 6.8 MB/s eta 0:00:01\n",
      "   ------------------------------------ --- 10.4/11.5 MB 7.0 MB/s eta 0:00:01\n",
      "   -------------------------------------- - 11.0/11.5 MB 7.3 MB/s eta 0:00:01\n",
      "   ---------------------------------------  11.3/11.5 MB 7.6 MB/s eta 0:00:01\n",
      "   ---------------------------------------  11.5/11.5 MB 7.6 MB/s eta 0:00:01\n",
      "   ---------------------------------------- 11.5/11.5 MB 7.2 MB/s eta 0:00:00\n",
      "Downloading matplotlib-3.8.4-cp312-cp312-win_amd64.whl (7.7 MB)\n",
      "   ---------------------------------------- 0.0/7.7 MB ? eta -:--:--\n",
      "   -- ------------------------------------- 0.5/7.7 MB 15.9 MB/s eta 0:00:01\n",
      "   ---- ----------------------------------- 0.8/7.7 MB 10.8 MB/s eta 0:00:01\n",
      "   ------- -------------------------------- 1.3/7.7 MB 10.6 MB/s eta 0:00:01\n",
      "   -------- ------------------------------- 1.7/7.7 MB 9.9 MB/s eta 0:00:01\n",
      "   ----------- ---------------------------- 2.1/7.7 MB 10.3 MB/s eta 0:00:01\n",
      "   ------------- -------------------------- 2.6/7.7 MB 9.7 MB/s eta 0:00:01\n",
      "   --------------- ------------------------ 2.9/7.7 MB 9.8 MB/s eta 0:00:01\n",
      "   ---------------- ----------------------- 3.2/7.7 MB 9.0 MB/s eta 0:00:01\n",
      "   ------------------ --------------------- 3.6/7.7 MB 8.9 MB/s eta 0:00:01\n",
      "   --------------------- ------------------ 4.2/7.7 MB 8.8 MB/s eta 0:00:01\n",
      "   ----------------------- ---------------- 4.5/7.7 MB 9.1 MB/s eta 0:00:01\n",
      "   -------------------------- ------------- 5.0/7.7 MB 9.2 MB/s eta 0:00:01\n",
      "   ---------------------------- ----------- 5.4/7.7 MB 8.9 MB/s eta 0:00:01\n",
      "   ------------------------------ --------- 5.9/7.7 MB 9.1 MB/s eta 0:00:01\n",
      "   --------------------------------- ------ 6.3/7.7 MB 9.0 MB/s eta 0:00:01\n",
      "   ----------------------------------- ---- 6.8/7.7 MB 9.2 MB/s eta 0:00:01\n",
      "   ------------------------------------- -- 7.3/7.7 MB 9.3 MB/s eta 0:00:01\n",
      "   ---------------------------------------  7.7/7.7 MB 9.2 MB/s eta 0:00:01\n",
      "   ---------------------------------------  7.7/7.7 MB 9.2 MB/s eta 0:00:01\n",
      "   ---------------------------------------- 7.7/7.7 MB 8.6 MB/s eta 0:00:00\n",
      "Downloading scikit_learn-1.4.2-cp312-cp312-win_amd64.whl (10.6 MB)\n",
      "   ---------------------------------------- 0.0/10.6 MB ? eta -:--:--\n",
      "   - -------------------------------------- 0.5/10.6 MB 10.5 MB/s eta 0:00:01\n",
      "   --- ------------------------------------ 0.9/10.6 MB 9.3 MB/s eta 0:00:02\n",
      "   ---- ----------------------------------- 1.3/10.6 MB 9.2 MB/s eta 0:00:02\n",
      "   ------ --------------------------------- 1.7/10.6 MB 9.9 MB/s eta 0:00:01\n",
      "   -------- ------------------------------- 2.2/10.6 MB 9.5 MB/s eta 0:00:01\n",
      "   --------- ------------------------------ 2.6/10.6 MB 9.3 MB/s eta 0:00:01\n",
      "   ----------- ---------------------------- 3.1/10.6 MB 9.6 MB/s eta 0:00:01\n",
      "   ------------- -------------------------- 3.6/10.6 MB 9.5 MB/s eta 0:00:01\n",
      "   --------------- ------------------------ 4.0/10.6 MB 9.5 MB/s eta 0:00:01\n",
      "   ----------------- ---------------------- 4.5/10.6 MB 9.3 MB/s eta 0:00:01\n",
      "   ------------------ --------------------- 4.9/10.6 MB 9.6 MB/s eta 0:00:01\n",
      "   -------------------- ------------------- 5.4/10.6 MB 9.6 MB/s eta 0:00:01\n",
      "   ---------------------- ----------------- 5.9/10.6 MB 9.7 MB/s eta 0:00:01\n",
      "   ------------------------ --------------- 6.4/10.6 MB 9.7 MB/s eta 0:00:01\n",
      "   ------------------------- -------------- 6.7/10.6 MB 9.3 MB/s eta 0:00:01\n",
      "   --------------------------- ------------ 7.2/10.6 MB 9.6 MB/s eta 0:00:01\n",
      "   ---------------------------- ----------- 7.6/10.6 MB 9.3 MB/s eta 0:00:01\n",
      "   ---------------------------- ----------- 7.6/10.6 MB 9.0 MB/s eta 0:00:01\n",
      "   ----------------------------- ---------- 7.7/10.6 MB 8.6 MB/s eta 0:00:01\n",
      "   ----------------------------- ---------- 7.8/10.6 MB 8.3 MB/s eta 0:00:01\n",
      "   ----------------------------- ---------- 7.8/10.6 MB 7.8 MB/s eta 0:00:01\n",
      "   -------------------------------- ------- 8.6/10.6 MB 8.2 MB/s eta 0:00:01\n",
      "   -------------------------------- ------- 8.6/10.6 MB 7.9 MB/s eta 0:00:01\n",
      "   --------------------------------- ------ 8.9/10.6 MB 7.8 MB/s eta 0:00:01\n",
      "   ----------------------------------- ---- 9.5/10.6 MB 7.9 MB/s eta 0:00:01\n",
      "   ------------------------------------- -- 9.9/10.6 MB 8.0 MB/s eta 0:00:01\n",
      "   ---------------------------------------  10.4/10.6 MB 8.1 MB/s eta 0:00:01\n",
      "   ---------------------------------------  10.6/10.6 MB 8.1 MB/s eta 0:00:01\n",
      "   ---------------------------------------  10.6/10.6 MB 8.1 MB/s eta 0:00:01\n",
      "   ---------------------------------------- 10.6/10.6 MB 7.7 MB/s eta 0:00:00\n",
      "Downloading contourpy-1.2.1-cp312-cp312-win_amd64.whl (189 kB)\n",
      "   ---------------------------------------- 0.0/189.9 kB ? eta -:--:--\n",
      "   --------------------------------------- 189.9/189.9 kB 12.0 MB/s eta 0:00:00\n",
      "Using cached cycler-0.12.1-py3-none-any.whl (8.3 kB)\n",
      "Downloading fonttools-4.51.0-cp312-cp312-win_amd64.whl (2.2 MB)\n",
      "   ---------------------------------------- 0.0/2.2 MB ? eta -:--:--\n",
      "   -------- ------------------------------- 0.5/2.2 MB 14.2 MB/s eta 0:00:01\n",
      "   ---------------- ----------------------- 0.9/2.2 MB 11.2 MB/s eta 0:00:01\n",
      "   ------------------------- -------------- 1.4/2.2 MB 11.1 MB/s eta 0:00:01\n",
      "   ---------------------------------- ----- 1.9/2.2 MB 10.8 MB/s eta 0:00:01\n",
      "   ---------------------------------------  2.2/2.2 MB 9.9 MB/s eta 0:00:01\n",
      "   ---------------------------------------- 2.2/2.2 MB 8.7 MB/s eta 0:00:00\n",
      "Downloading joblib-1.4.2-py3-none-any.whl (301 kB)\n",
      "   ---------------------------------------- 0.0/301.8 kB ? eta -:--:--\n",
      "   --------------------------------------- 301.8/301.8 kB 18.2 MB/s eta 0:00:00\n",
      "Using cached kiwisolver-1.4.5-cp312-cp312-win_amd64.whl (56 kB)\n",
      "Using cached numpy-1.26.4-cp312-cp312-win_amd64.whl (15.5 MB)\n",
      "Using cached pillow-10.3.0-cp312-cp312-win_amd64.whl (2.5 MB)\n",
      "Using cached pyparsing-3.1.2-py3-none-any.whl (103 kB)\n",
      "Using cached pytz-2024.1-py2.py3-none-any.whl (505 kB)\n",
      "Downloading scipy-1.13.0-cp312-cp312-win_amd64.whl (45.9 MB)\n",
      "   ---------------------------------------- 0.0/45.9 MB ? eta -:--:--\n",
      "   ---------------------------------------- 0.5/45.9 MB 11.1 MB/s eta 0:00:05\n",
      "    --------------------------------------- 1.0/45.9 MB 12.3 MB/s eta 0:00:04\n",
      "   - -------------------------------------- 1.5/45.9 MB 10.7 MB/s eta 0:00:05\n",
      "   - -------------------------------------- 2.0/45.9 MB 10.5 MB/s eta 0:00:05\n",
      "   -- ------------------------------------- 2.5/45.9 MB 11.2 MB/s eta 0:00:04\n",
      "   -- ------------------------------------- 3.0/45.9 MB 10.5 MB/s eta 0:00:05\n",
      "   -- ------------------------------------- 3.4/45.9 MB 10.9 MB/s eta 0:00:04\n",
      "   --- ------------------------------------ 3.9/45.9 MB 10.5 MB/s eta 0:00:05\n",
      "   --- ------------------------------------ 4.4/45.9 MB 10.5 MB/s eta 0:00:04\n",
      "   ---- ----------------------------------- 4.9/45.9 MB 10.4 MB/s eta 0:00:04\n",
      "   ---- ----------------------------------- 5.4/45.9 MB 10.4 MB/s eta 0:00:04\n",
      "   ----- ---------------------------------- 5.9/45.9 MB 10.4 MB/s eta 0:00:04\n",
      "   ----- ---------------------------------- 6.4/45.9 MB 10.4 MB/s eta 0:00:04\n",
      "   ----- ---------------------------------- 6.9/45.9 MB 10.4 MB/s eta 0:00:04\n",
      "   ------ --------------------------------- 7.4/45.9 MB 10.5 MB/s eta 0:00:04\n",
      "   ------ --------------------------------- 7.9/45.9 MB 10.5 MB/s eta 0:00:04\n",
      "   ------- -------------------------------- 8.4/45.9 MB 10.5 MB/s eta 0:00:04\n",
      "   ------- -------------------------------- 8.8/45.9 MB 10.5 MB/s eta 0:00:04\n",
      "   ------- -------------------------------- 8.9/45.9 MB 10.4 MB/s eta 0:00:04\n",
      "   -------- ------------------------------- 9.4/45.9 MB 9.8 MB/s eta 0:00:04\n",
      "   -------- ------------------------------- 9.7/45.9 MB 10.2 MB/s eta 0:00:04\n",
      "   -------- ------------------------------- 9.9/45.9 MB 9.6 MB/s eta 0:00:04\n",
      "   -------- ------------------------------- 10.3/45.9 MB 9.4 MB/s eta 0:00:04\n",
      "   --------- ------------------------------ 10.8/45.9 MB 9.4 MB/s eta 0:00:04\n",
      "   --------- ------------------------------ 11.3/45.9 MB 9.4 MB/s eta 0:00:04\n",
      "   ---------- ----------------------------- 11.8/45.9 MB 9.5 MB/s eta 0:00:04\n",
      "   ---------- ----------------------------- 12.2/45.9 MB 9.4 MB/s eta 0:00:04\n",
      "   ----------- ---------------------------- 12.8/45.9 MB 9.4 MB/s eta 0:00:04\n",
      "   ----------- ---------------------------- 13.3/45.9 MB 9.5 MB/s eta 0:00:04\n",
      "   ----------- ---------------------------- 13.7/45.9 MB 9.4 MB/s eta 0:00:04\n",
      "   ------------ --------------------------- 14.3/45.9 MB 9.4 MB/s eta 0:00:04\n",
      "   ------------ --------------------------- 14.7/45.9 MB 9.5 MB/s eta 0:00:04\n",
      "   ------------- -------------------------- 15.2/45.9 MB 9.4 MB/s eta 0:00:04\n",
      "   ------------- -------------------------- 15.7/45.9 MB 9.6 MB/s eta 0:00:04\n",
      "   -------------- ------------------------- 16.2/45.9 MB 9.5 MB/s eta 0:00:04\n",
      "   -------------- ------------------------- 16.6/45.9 MB 9.5 MB/s eta 0:00:04\n",
      "   -------------- ------------------------- 17.2/45.9 MB 9.5 MB/s eta 0:00:04\n",
      "   --------------- ------------------------ 17.7/45.9 MB 9.5 MB/s eta 0:00:03\n",
      "   --------------- ------------------------ 18.1/45.9 MB 9.4 MB/s eta 0:00:03\n",
      "   ---------------- ----------------------- 18.6/45.9 MB 9.5 MB/s eta 0:00:03\n",
      "   ---------------- ----------------------- 19.1/45.9 MB 9.5 MB/s eta 0:00:03\n",
      "   ----------------- ---------------------- 19.6/45.9 MB 9.8 MB/s eta 0:00:03\n",
      "   ----------------- ---------------------- 19.9/45.9 MB 9.6 MB/s eta 0:00:03\n",
      "   ----------------- ---------------------- 20.4/45.9 MB 10.2 MB/s eta 0:00:03\n",
      "   ------------------ --------------------- 20.9/45.9 MB 10.2 MB/s eta 0:00:03\n",
      "   ------------------ --------------------- 21.4/45.9 MB 10.1 MB/s eta 0:00:03\n",
      "   ------------------ --------------------- 21.5/45.9 MB 9.6 MB/s eta 0:00:03\n",
      "   ------------------- -------------------- 22.3/45.9 MB 10.1 MB/s eta 0:00:03\n",
      "   ------------------- -------------------- 22.3/45.9 MB 9.5 MB/s eta 0:00:03\n",
      "   ------------------- -------------------- 22.8/45.9 MB 9.6 MB/s eta 0:00:03\n",
      "   -------------------- ------------------- 23.3/45.9 MB 9.6 MB/s eta 0:00:03\n",
      "   -------------------- ------------------- 23.8/45.9 MB 9.5 MB/s eta 0:00:03\n",
      "   --------------------- ------------------ 24.3/45.9 MB 9.8 MB/s eta 0:00:03\n",
      "   --------------------- ------------------ 24.8/45.9 MB 9.5 MB/s eta 0:00:03\n",
      "   ---------------------- ----------------- 25.3/45.9 MB 9.8 MB/s eta 0:00:03\n",
      "   ---------------------- ----------------- 25.8/45.9 MB 9.6 MB/s eta 0:00:03\n",
      "   ---------------------- ----------------- 26.3/45.9 MB 9.8 MB/s eta 0:00:03\n",
      "   ----------------------- ---------------- 26.7/45.9 MB 9.6 MB/s eta 0:00:02\n",
      "   ----------------------- ---------------- 27.3/45.9 MB 9.6 MB/s eta 0:00:02\n",
      "   ------------------------ --------------- 27.8/45.9 MB 9.6 MB/s eta 0:00:02\n",
      "   ------------------------ --------------- 28.3/45.9 MB 9.8 MB/s eta 0:00:02\n",
      "   ------------------------- -------------- 28.8/45.9 MB 9.8 MB/s eta 0:00:02\n",
      "   ------------------------- -------------- 29.3/45.9 MB 9.6 MB/s eta 0:00:02\n",
      "   ------------------------- -------------- 29.7/45.9 MB 9.8 MB/s eta 0:00:02\n",
      "   -------------------------- ------------- 30.3/45.9 MB 9.9 MB/s eta 0:00:02\n",
      "   -------------------------- ------------- 30.8/45.9 MB 9.9 MB/s eta 0:00:02\n",
      "   --------------------------- ------------ 31.3/45.9 MB 9.9 MB/s eta 0:00:02\n",
      "   --------------------------- ------------ 31.8/45.9 MB 10.6 MB/s eta 0:00:02\n",
      "   ---------------------------- ----------- 32.3/45.9 MB 10.2 MB/s eta 0:00:02\n",
      "   ---------------------------- ----------- 32.8/45.9 MB 10.6 MB/s eta 0:00:02\n",
      "   ----------------------------- ---------- 33.3/45.9 MB 10.6 MB/s eta 0:00:02\n",
      "   ----------------------------- ---------- 33.8/45.9 MB 10.6 MB/s eta 0:00:02\n",
      "   ----------------------------- ---------- 34.3/45.9 MB 10.6 MB/s eta 0:00:02\n",
      "   ------------------------------ --------- 34.7/45.9 MB 10.6 MB/s eta 0:00:02\n",
      "   ------------------------------ --------- 35.2/45.9 MB 10.4 MB/s eta 0:00:02\n",
      "   ------------------------------ --------- 35.6/45.9 MB 10.2 MB/s eta 0:00:02\n",
      "   ------------------------------- -------- 36.0/45.9 MB 10.4 MB/s eta 0:00:01\n",
      "   ------------------------------- -------- 36.5/45.9 MB 10.2 MB/s eta 0:00:01\n",
      "   -------------------------------- ------- 37.0/45.9 MB 10.4 MB/s eta 0:00:01\n",
      "   -------------------------------- ------- 37.5/45.9 MB 10.4 MB/s eta 0:00:01\n",
      "   --------------------------------- ------ 38.0/45.9 MB 10.4 MB/s eta 0:00:01\n",
      "   --------------------------------- ------ 38.4/45.9 MB 10.2 MB/s eta 0:00:01\n",
      "   --------------------------------- ------ 39.0/45.9 MB 10.4 MB/s eta 0:00:01\n",
      "   ---------------------------------- ----- 39.2/45.9 MB 9.9 MB/s eta 0:00:01\n",
      "   ---------------------------------- ----- 39.6/45.9 MB 9.8 MB/s eta 0:00:01\n",
      "   ---------------------------------- ----- 40.1/45.9 MB 9.9 MB/s eta 0:00:01\n",
      "   ----------------------------------- ---- 40.6/45.9 MB 9.9 MB/s eta 0:00:01\n",
      "   ----------------------------------- ---- 41.1/45.9 MB 9.9 MB/s eta 0:00:01\n",
      "   ------------------------------------ --- 41.5/45.9 MB 9.9 MB/s eta 0:00:01\n",
      "   ------------------------------------ --- 42.1/45.9 MB 9.9 MB/s eta 0:00:01\n",
      "   ------------------------------------- -- 42.5/45.9 MB 9.9 MB/s eta 0:00:01\n",
      "   ------------------------------------- -- 43.0/45.9 MB 9.8 MB/s eta 0:00:01\n",
      "   ------------------------------------- -- 43.5/45.9 MB 9.8 MB/s eta 0:00:01\n",
      "   -------------------------------------- - 44.0/45.9 MB 9.8 MB/s eta 0:00:01\n",
      "   -------------------------------------- - 44.5/45.9 MB 9.8 MB/s eta 0:00:01\n",
      "   ---------------------------------------  44.9/45.9 MB 9.8 MB/s eta 0:00:01\n",
      "   ---------------------------------------  45.5/45.9 MB 9.9 MB/s eta 0:00:01\n",
      "   ---------------------------------------  45.9/45.9 MB 9.9 MB/s eta 0:00:01\n",
      "   ---------------------------------------  45.9/45.9 MB 9.9 MB/s eta 0:00:01\n",
      "   ---------------------------------------  45.9/45.9 MB 9.9 MB/s eta 0:00:01\n",
      "   ---------------------------------------  45.9/45.9 MB 9.9 MB/s eta 0:00:01\n",
      "   ---------------------------------------- 45.9/45.9 MB 8.3 MB/s eta 0:00:00\n",
      "Downloading threadpoolctl-3.5.0-py3-none-any.whl (18 kB)\n",
      "Using cached tzdata-2024.1-py2.py3-none-any.whl (345 kB)\n",
      "Installing collected packages: pytz, tzdata, threadpoolctl, pyparsing, pillow, numpy, kiwisolver, joblib, fonttools, cycler, scipy, pandas, contourpy, scikit-learn, matplotlib\n",
      "Successfully installed contourpy-1.2.1 cycler-0.12.1 fonttools-4.51.0 joblib-1.4.2 kiwisolver-1.4.5 matplotlib-3.8.4 numpy-1.26.4 pandas-2.2.2 pillow-10.3.0 pyparsing-3.1.2 pytz-2024.1 scikit-learn-1.4.2 scipy-1.13.0 threadpoolctl-3.5.0 tzdata-2024.1\n",
      "Note: you may need to restart the kernel to use updated packages.\n"
     ]
    },
    {
     "name": "stderr",
     "output_type": "stream",
     "text": [
      "\n",
      "[notice] A new release of pip is available: 23.2.1 -> 24.0\n",
      "[notice] To update, run: python.exe -m pip install --upgrade pip\n"
     ]
    }
   ],
   "execution_count": 1
  },
  {
   "cell_type": "code",
   "id": "initial_id",
   "metadata": {
    "collapsed": true,
    "ExecuteTime": {
     "end_time": "2024-05-17T11:13:44.260083100Z",
     "start_time": "2024-05-17T11:13:44.243562500Z"
    }
   },
   "source": [
    "import pandas as pd"
   ],
   "outputs": [],
   "execution_count": 11
  },
  {
   "metadata": {
    "ExecuteTime": {
     "end_time": "2024-05-17T11:13:44.810232900Z",
     "start_time": "2024-05-17T11:13:44.760619200Z"
    }
   },
   "cell_type": "code",
   "source": [
    "df = pd.read_csv('data/parkinsons_updrs.data.csv')\n",
    "df.head()"
   ],
   "id": "5f5ccc10929f641b",
   "outputs": [
    {
     "data": {
      "text/plain": "   index  subject#  age  sex  test_time  motor_UPDRS  total_UPDRS  Jitter(%)  \\\n0      0         1   72    0     5.6431       28.199       34.398    0.00662   \n1      1         1   72    0    12.6660       28.447       34.894    0.00300   \n2      2         1   72    0    19.6810       28.695       35.389    0.00481   \n3      3         1   72    0    25.6470       28.905       35.810    0.00528   \n4      4         1   72    0    33.6420       29.187       36.375    0.00335   \n\n   Jitter(Abs)  Jitter:RAP  ...  Shimmer(dB)  Shimmer:APQ3  Shimmer:APQ5  \\\n0     0.000034     0.00401  ...        0.230       0.01438       0.01309   \n1     0.000017     0.00132  ...        0.179       0.00994       0.01072   \n2     0.000025     0.00205  ...        0.181       0.00734       0.00844   \n3     0.000027     0.00191  ...        0.327       0.01106       0.01265   \n4     0.000020     0.00093  ...        0.176       0.00679       0.00929   \n\n   Shimmer:APQ11  Shimmer:DDA       NHR     HNR     RPDE      DFA      PPE  \n0        0.01662      0.04314  0.014290  21.640  0.41888  0.54842  0.16006  \n1        0.01689      0.02982  0.011112  27.183  0.43493  0.56477  0.10810  \n2        0.01458      0.02202  0.020220  23.047  0.46222  0.54405  0.21014  \n3        0.01963      0.03317  0.027837  24.445  0.48730  0.57794  0.33277  \n4        0.01819      0.02036  0.011625  26.126  0.47188  0.56122  0.19361  \n\n[5 rows x 23 columns]",
      "text/html": "<div>\n<style scoped>\n    .dataframe tbody tr th:only-of-type {\n        vertical-align: middle;\n    }\n\n    .dataframe tbody tr th {\n        vertical-align: top;\n    }\n\n    .dataframe thead th {\n        text-align: right;\n    }\n</style>\n<table border=\"1\" class=\"dataframe\">\n  <thead>\n    <tr style=\"text-align: right;\">\n      <th></th>\n      <th>index</th>\n      <th>subject#</th>\n      <th>age</th>\n      <th>sex</th>\n      <th>test_time</th>\n      <th>motor_UPDRS</th>\n      <th>total_UPDRS</th>\n      <th>Jitter(%)</th>\n      <th>Jitter(Abs)</th>\n      <th>Jitter:RAP</th>\n      <th>...</th>\n      <th>Shimmer(dB)</th>\n      <th>Shimmer:APQ3</th>\n      <th>Shimmer:APQ5</th>\n      <th>Shimmer:APQ11</th>\n      <th>Shimmer:DDA</th>\n      <th>NHR</th>\n      <th>HNR</th>\n      <th>RPDE</th>\n      <th>DFA</th>\n      <th>PPE</th>\n    </tr>\n  </thead>\n  <tbody>\n    <tr>\n      <th>0</th>\n      <td>0</td>\n      <td>1</td>\n      <td>72</td>\n      <td>0</td>\n      <td>5.6431</td>\n      <td>28.199</td>\n      <td>34.398</td>\n      <td>0.00662</td>\n      <td>0.000034</td>\n      <td>0.00401</td>\n      <td>...</td>\n      <td>0.230</td>\n      <td>0.01438</td>\n      <td>0.01309</td>\n      <td>0.01662</td>\n      <td>0.04314</td>\n      <td>0.014290</td>\n      <td>21.640</td>\n      <td>0.41888</td>\n      <td>0.54842</td>\n      <td>0.16006</td>\n    </tr>\n    <tr>\n      <th>1</th>\n      <td>1</td>\n      <td>1</td>\n      <td>72</td>\n      <td>0</td>\n      <td>12.6660</td>\n      <td>28.447</td>\n      <td>34.894</td>\n      <td>0.00300</td>\n      <td>0.000017</td>\n      <td>0.00132</td>\n      <td>...</td>\n      <td>0.179</td>\n      <td>0.00994</td>\n      <td>0.01072</td>\n      <td>0.01689</td>\n      <td>0.02982</td>\n      <td>0.011112</td>\n      <td>27.183</td>\n      <td>0.43493</td>\n      <td>0.56477</td>\n      <td>0.10810</td>\n    </tr>\n    <tr>\n      <th>2</th>\n      <td>2</td>\n      <td>1</td>\n      <td>72</td>\n      <td>0</td>\n      <td>19.6810</td>\n      <td>28.695</td>\n      <td>35.389</td>\n      <td>0.00481</td>\n      <td>0.000025</td>\n      <td>0.00205</td>\n      <td>...</td>\n      <td>0.181</td>\n      <td>0.00734</td>\n      <td>0.00844</td>\n      <td>0.01458</td>\n      <td>0.02202</td>\n      <td>0.020220</td>\n      <td>23.047</td>\n      <td>0.46222</td>\n      <td>0.54405</td>\n      <td>0.21014</td>\n    </tr>\n    <tr>\n      <th>3</th>\n      <td>3</td>\n      <td>1</td>\n      <td>72</td>\n      <td>0</td>\n      <td>25.6470</td>\n      <td>28.905</td>\n      <td>35.810</td>\n      <td>0.00528</td>\n      <td>0.000027</td>\n      <td>0.00191</td>\n      <td>...</td>\n      <td>0.327</td>\n      <td>0.01106</td>\n      <td>0.01265</td>\n      <td>0.01963</td>\n      <td>0.03317</td>\n      <td>0.027837</td>\n      <td>24.445</td>\n      <td>0.48730</td>\n      <td>0.57794</td>\n      <td>0.33277</td>\n    </tr>\n    <tr>\n      <th>4</th>\n      <td>4</td>\n      <td>1</td>\n      <td>72</td>\n      <td>0</td>\n      <td>33.6420</td>\n      <td>29.187</td>\n      <td>36.375</td>\n      <td>0.00335</td>\n      <td>0.000020</td>\n      <td>0.00093</td>\n      <td>...</td>\n      <td>0.176</td>\n      <td>0.00679</td>\n      <td>0.00929</td>\n      <td>0.01819</td>\n      <td>0.02036</td>\n      <td>0.011625</td>\n      <td>26.126</td>\n      <td>0.47188</td>\n      <td>0.56122</td>\n      <td>0.19361</td>\n    </tr>\n  </tbody>\n</table>\n<p>5 rows × 23 columns</p>\n</div>"
     },
     "execution_count": 12,
     "metadata": {},
     "output_type": "execute_result"
    }
   ],
   "execution_count": 12
  },
  {
   "metadata": {
    "ExecuteTime": {
     "end_time": "2024-05-17T11:13:45.402841Z",
     "start_time": "2024-05-17T11:13:45.378254100Z"
    }
   },
   "cell_type": "code",
   "outputs": [
    {
     "name": "stdout",
     "output_type": "stream",
     "text": [
      "<class 'pandas.core.frame.DataFrame'>\n",
      "RangeIndex: 5875 entries, 0 to 5874\n",
      "Data columns (total 23 columns):\n",
      " #   Column         Non-Null Count  Dtype  \n",
      "---  ------         --------------  -----  \n",
      " 0   index          5875 non-null   int64  \n",
      " 1   subject#       5875 non-null   int64  \n",
      " 2   age            5875 non-null   int64  \n",
      " 3   sex            5875 non-null   int64  \n",
      " 4   test_time      5875 non-null   float64\n",
      " 5   motor_UPDRS    5875 non-null   float64\n",
      " 6   total_UPDRS    5875 non-null   float64\n",
      " 7   Jitter(%)      5875 non-null   float64\n",
      " 8   Jitter(Abs)    5875 non-null   float64\n",
      " 9   Jitter:RAP     5875 non-null   float64\n",
      " 10  Jitter:PPQ5    5875 non-null   float64\n",
      " 11  Jitter:DDP     5875 non-null   float64\n",
      " 12  Shimmer        5875 non-null   float64\n",
      " 13  Shimmer(dB)    5875 non-null   float64\n",
      " 14  Shimmer:APQ3   5875 non-null   float64\n",
      " 15  Shimmer:APQ5   5875 non-null   float64\n",
      " 16  Shimmer:APQ11  5875 non-null   float64\n",
      " 17  Shimmer:DDA    5875 non-null   float64\n",
      " 18  NHR            5875 non-null   float64\n",
      " 19  HNR            5875 non-null   float64\n",
      " 20  RPDE           5875 non-null   float64\n",
      " 21  DFA            5875 non-null   float64\n",
      " 22  PPE            5875 non-null   float64\n",
      "dtypes: float64(19), int64(4)\n",
      "memory usage: 1.0 MB\n"
     ]
    }
   ],
   "execution_count": 13,
   "source": [
    "df.info()"
   ],
   "id": "7aab4f6bf67b21ce"
  },
  {
   "cell_type": "code",
   "outputs": [],
   "source": [
    "x = df.drop('total_UPDRS', axis=1)\n",
    "y = df['total_UPDRS']"
   ],
   "metadata": {
    "collapsed": false,
    "ExecuteTime": {
     "end_time": "2024-05-17T11:14:17.714742500Z",
     "start_time": "2024-05-17T11:14:17.693247Z"
    }
   },
   "id": "1de54dd7fe7b5ee0",
   "execution_count": 20
  },
  {
   "cell_type": "code",
   "outputs": [],
   "source": [
    "from sklearn.model_selection import train_test_split\n",
    "# split data to train and test\n",
    "x_train, x_test, y_train, y_test = train_test_split(x, y, test_size=0.2, random_state=42)"
   ],
   "metadata": {
    "collapsed": false,
    "ExecuteTime": {
     "end_time": "2024-05-17T11:14:18.226749300Z",
     "start_time": "2024-05-17T11:14:18.199513400Z"
    }
   },
   "id": "a5a3803dc31151f0",
   "execution_count": 21
  },
  {
   "cell_type": "code",
   "outputs": [],
   "source": [
    "from sklearn.linear_model import LinearRegression\n",
    "from sklearn.tree import DecisionTreeRegressor\n",
    "from sklearn.ensemble import RandomForestRegressor\n",
    "\n",
    "# Define the selected models\n",
    "models = {\n",
    "    'Linear Regression': LinearRegression(),\n",
    "    'Decision Tree': DecisionTreeRegressor(),\n",
    "    'Random Forest': RandomForestRegressor()\n",
    "}\n"
   ],
   "metadata": {
    "collapsed": false,
    "ExecuteTime": {
     "end_time": "2024-05-17T11:14:18.720926500Z",
     "start_time": "2024-05-17T11:14:18.694707300Z"
    }
   },
   "id": "dc2bd14fd8def570",
   "execution_count": 22
  },
  {
   "cell_type": "code",
   "outputs": [],
   "source": [
    "import json\n",
    "import os\n",
    "\n",
    "names = {}\n",
    "names['num'] = x.select_dtypes(include=['int64', 'float64']).columns.tolist()\n",
    "\n",
    "if not os.path.isdir('files'):\n",
    "    os.makedirs('files')\n",
    "\n",
    "with open('files/column_data.json', 'w') as f:\n",
    "    json.dump(names, f)\n"
   ],
   "metadata": {
    "collapsed": false,
    "ExecuteTime": {
     "end_time": "2024-05-17T11:14:19.165165800Z",
     "start_time": "2024-05-17T11:14:19.133413800Z"
    }
   },
   "id": "6a8ec9493425e64e",
   "execution_count": 23
  },
  {
   "cell_type": "code",
   "outputs": [
    {
     "data": {
      "text/plain": "               model       mse\n0  Linear Regression  9.562482\n1      Decision Tree  0.207795\n2      Random Forest  0.095003",
      "text/html": "<div>\n<style scoped>\n    .dataframe tbody tr th:only-of-type {\n        vertical-align: middle;\n    }\n\n    .dataframe tbody tr th {\n        vertical-align: top;\n    }\n\n    .dataframe thead th {\n        text-align: right;\n    }\n</style>\n<table border=\"1\" class=\"dataframe\">\n  <thead>\n    <tr style=\"text-align: right;\">\n      <th></th>\n      <th>model</th>\n      <th>mse</th>\n    </tr>\n  </thead>\n  <tbody>\n    <tr>\n      <th>0</th>\n      <td>Linear Regression</td>\n      <td>9.562482</td>\n    </tr>\n    <tr>\n      <th>1</th>\n      <td>Decision Tree</td>\n      <td>0.207795</td>\n    </tr>\n    <tr>\n      <th>2</th>\n      <td>Random Forest</td>\n      <td>0.095003</td>\n    </tr>\n  </tbody>\n</table>\n</div>"
     },
     "execution_count": 24,
     "metadata": {},
     "output_type": "execute_result"
    }
   ],
   "source": [
    "from sklearn.metrics import mean_squared_error\n",
    "\n",
    "pipeline_models = {}\n",
    "mse_scores = {}\n",
    "#train models\n",
    "for name, model in models.items():\n",
    "    model.fit(x_train, y_train)\n",
    "    pipeline_models[name] = model\n",
    "\n",
    "    # Make predictions\n",
    "    y_pred = model.predict(x_test)\n",
    "    # cal error\n",
    "    mse = mean_squared_error(y_test, y_pred)\n",
    "    mse_scores[name] = mse\n",
    "\n",
    "# Convert the results to a DataFrame for pllotting\n",
    "df_models = pd.DataFrame(mse_scores.items(), columns=['model', 'mse'])\n",
    "df_models.head()\n"
   ],
   "metadata": {
    "collapsed": false,
    "ExecuteTime": {
     "end_time": "2024-05-17T11:14:29.258907800Z",
     "start_time": "2024-05-17T11:14:19.901495100Z"
    }
   },
   "id": "49b7bfd691b27c27",
   "execution_count": 24
  },
  {
   "cell_type": "code",
   "outputs": [
    {
     "data": {
      "text/plain": "<Figure size 900x600 with 1 Axes>",
      "image/png": "[encoded data removed]"
     },
     "metadata": {},
     "output_type": "display_data"
    }
   ],
   "source": [
    "import matplotlib.pyplot as plt\n",
    "\n",
    "# Plot the mean squared error for each model\n",
    "plt.figure(figsize=(9, 6))\n",
    "\n",
    "plt.bar('model', 'mse', data=df_models.sort_values('mse'))\n",
    "plt.ylabel('Mean Squared Error')\n",
    "plt.xlabel('Regressors')\n",
    "plt.title('Comparison of Different Regressors')\n",
    "plt.xticks(rotation=45)\n",
    "plt.show()\n"
   ],
   "metadata": {
    "collapsed": false,
    "ExecuteTime": {
     "end_time": "2024-05-17T11:14:29.438318Z",
     "start_time": "2024-05-17T11:14:29.259982500Z"
    }
   },
   "id": "42ac231393618e49",
   "execution_count": 25
  },
  {
   "cell_type": "markdown",
   "source": [
    "the highest MSE the worst in predictions the values so Linear regression is the worst in our case"
   ],
   "metadata": {
    "collapsed": false
   },
   "id": "83fa5ea2a0bb84cf"
  },
  {
   "cell_type": "code",
   "outputs": [],
   "source": [
    "import pickle\n",
    "# save the models in piplien_models.pkl file\n",
    "with open('files/pipeline_models.pkl', 'wb') as f:\n",
    "    pickle.dump(pipeline_models, f)\n"
   ],
   "metadata": {
    "collapsed": false,
    "ExecuteTime": {
     "end_time": "2024-05-17T11:19:41.051651500Z",
     "start_time": "2024-05-17T11:19:41.007616500Z"
    }
   },
   "id": "12b1eaccf6e40d8c",
   "execution_count": 26
  },
  {
   "cell_type": "code",
   "outputs": [
    {
     "data": {
      "text/plain": "{'Linear Regression': LinearRegression(),\n 'Decision Tree': DecisionTreeRegressor(),\n 'Random Forest': RandomForestRegressor()}"
     },
     "execution_count": 27,
     "metadata": {},
     "output_type": "execute_result"
    }
   ],
   "source": [
    "pipeline_models"
   ],
   "metadata": {
    "collapsed": false,
    "ExecuteTime": {
     "end_time": "2024-05-17T11:20:08.959713400Z",
     "start_time": "2024-05-17T11:20:08.930484900Z"
    }
   },
   "id": "d4afb7fb1cd4df5b",
   "execution_count": 27
  },
  {
   "cell_type": "code",
   "outputs": [],
   "source": [],
   "metadata": {
    "collapsed": false
   },
   "id": "50bf51a753f95b5b"
  }
 ],
 "metadata": {
  "kernelspec": {
   "display_name": "Python 3",
   "language": "python",
   "name": "python3"
  },
  "language_info": {
   "codemirror_mode": {
    "name": "ipython",
    "version": 2
   },
   "file_extension": ".py",
   "mimetype": "text/x-python",
   "name": "python",
   "nbconvert_exporter": "python",
   "pygments_lexer": "ipython2",
   "version": "2.7.6"
  }
 },
 "nbformat": 4,
 "nbformat_minor": 5
}
