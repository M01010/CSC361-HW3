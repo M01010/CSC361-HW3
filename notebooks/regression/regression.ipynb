{
 "cells": [
  {
   "metadata": {
    "ExecuteTime": {
     "end_time": "2024-05-18T11:57:21.164152700Z",
     "start_time": "2024-05-18T11:57:13.711900800Z"
    }
   },
   "cell_type": "code",
   "source": [
    "%pip install pandas matplotlib scikit-learn"
   ],
   "id": "67a8c71bdf5b3583",
   "outputs": [
    {
     "name": "stdout",
     "output_type": "stream",
     "text": [
      "Requirement already satisfied: pandas in c:\\users\\hatim\\appdata\\local\\programs\\python\\python39\\lib\\site-packages (2.2.2)\n",
      "Requirement already satisfied: matplotlib in c:\\users\\hatim\\appdata\\local\\programs\\python\\python39\\lib\\site-packages (3.8.4)\n",
      "Requirement already satisfied: scikit-learn in c:\\users\\hatim\\appdata\\local\\programs\\python\\python39\\lib\\site-packages (1.4.2)\n",
      "Requirement already satisfied: python-dateutil>=2.8.2 in c:\\users\\hatim\\appdata\\local\\packages\\pythonsoftwarefoundation.python.3.9_qbz5n2kfra8p0\\localcache\\local-packages\\python39\\site-packages (from pandas) (2.9.0.post0)\n",
      "Requirement already satisfied: tzdata>=2022.7 in c:\\users\\hatim\\appdata\\local\\programs\\python\\python39\\lib\\site-packages (from pandas) (2024.1)\n",
      "Requirement already satisfied: numpy>=1.22.4 in c:\\users\\hatim\\appdata\\local\\programs\\python\\python39\\lib\\site-packages (from pandas) (1.26.4)\n",
      "Requirement already satisfied: pytz>=2020.1 in c:\\users\\hatim\\appdata\\local\\programs\\python\\python39\\lib\\site-packages (from pandas) (2024.1)\n",
      "Requirement already satisfied: pyparsing>=2.3.1 in c:\\users\\hatim\\appdata\\local\\programs\\python\\python39\\lib\\site-packages (from matplotlib) (3.1.2)\n",
      "Requirement already satisfied: fonttools>=4.22.0 in c:\\users\\hatim\\appdata\\local\\programs\\python\\python39\\lib\\site-packages (from matplotlib) (4.51.0)\n",
      "Requirement already satisfied: kiwisolver>=1.3.1 in c:\\users\\hatim\\appdata\\local\\programs\\python\\python39\\lib\\site-packages (from matplotlib) (1.4.5)\n",
      "Requirement already satisfied: importlib-resources>=3.2.0 in c:\\users\\hatim\\appdata\\local\\programs\\python\\python39\\lib\\site-packages (from matplotlib) (6.4.0)\n",
      "Requirement already satisfied: contourpy>=1.0.1 in c:\\users\\hatim\\appdata\\local\\programs\\python\\python39\\lib\\site-packages (from matplotlib) (1.2.1)\n",
      "Requirement already satisfied: pillow>=8 in c:\\users\\hatim\\appdata\\local\\programs\\python\\python39\\lib\\site-packages (from matplotlib) (10.3.0)\n",
      "Requirement already satisfied: packaging>=20.0 in c:\\users\\hatim\\appdata\\local\\packages\\pythonsoftwarefoundation.python.3.9_qbz5n2kfra8p0\\localcache\\local-packages\\python39\\site-packages (from matplotlib) (24.0)\n",
      "Requirement already satisfied: cycler>=0.10 in c:\\users\\hatim\\appdata\\local\\programs\\python\\python39\\lib\\site-packages (from matplotlib) (0.12.1)\n",
      "Requirement already satisfied: scipy>=1.6.0 in c:\\users\\hatim\\appdata\\local\\programs\\python\\python39\\lib\\site-packages (from scikit-learn) (1.13.0)\n",
      "Requirement already satisfied: threadpoolctl>=2.0.0 in c:\\users\\hatim\\appdata\\local\\programs\\python\\python39\\lib\\site-packages (from scikit-learn) (3.5.0)\n",
      "Requirement already satisfied: joblib>=1.2.0 in c:\\users\\hatim\\appdata\\local\\programs\\python\\python39\\lib\\site-packages (from scikit-learn) (1.4.2)\n",
      "Requirement already satisfied: zipp>=3.1.0 in c:\\users\\hatim\\appdata\\local\\packages\\pythonsoftwarefoundation.python.3.9_qbz5n2kfra8p0\\localcache\\local-packages\\python39\\site-packages (from importlib-resources>=3.2.0->matplotlib) (3.18.1)\n",
      "Requirement already satisfied: six>=1.5 in c:\\users\\hatim\\appdata\\local\\packages\\pythonsoftwarefoundation.python.3.9_qbz5n2kfra8p0\\localcache\\local-packages\\python39\\site-packages (from python-dateutil>=2.8.2->pandas) (1.16.0)\n",
      "Note: you may need to restart the kernel to use updated packages.\n"
     ]
    },
    {
     "name": "stderr",
     "output_type": "stream",
     "text": [
      "WARNING: You are using pip version 22.0.4; however, version 24.0 is available.\n",
      "You should consider upgrading via the 'C:\\Users\\Hatim\\AppData\\Local\\Programs\\Python\\Python39\\python.exe -m pip install --upgrade pip' command.\n"
     ]
    }
   ],
   "execution_count": 1
  },
  {
   "cell_type": "code",
   "id": "initial_id",
   "metadata": {
    "collapsed": true,
    "ExecuteTime": {
     "end_time": "2024-05-18T11:57:21.795306600Z",
     "start_time": "2024-05-18T11:57:21.165229600Z"
    }
   },
   "source": [
    "import pandas as pd"
   ],
   "outputs": [],
   "execution_count": 2
  },
  {
   "metadata": {
    "ExecuteTime": {
     "end_time": "2024-05-18T11:57:21.852142500Z",
     "start_time": "2024-05-18T11:57:21.795306600Z"
    }
   },
   "cell_type": "code",
   "source": [
    "df = pd.read_csv('data/parkinsons_updrs.data.csv')\n",
    "df.head()"
   ],
   "id": "5f5ccc10929f641b",
   "outputs": [
    {
     "data": {
      "text/plain": "   index  subject#  age  sex  test_time  motor_UPDRS  total_UPDRS  Jitter(%)  \\\n0      0         1   72    0     5.6431       28.199       34.398    0.00662   \n1      1         1   72    0    12.6660       28.447       34.894    0.00300   \n2      2         1   72    0    19.6810       28.695       35.389    0.00481   \n3      3         1   72    0    25.6470       28.905       35.810    0.00528   \n4      4         1   72    0    33.6420       29.187       36.375    0.00335   \n\n   Jitter(Abs)  Jitter:RAP  ...  Shimmer(dB)  Shimmer:APQ3  Shimmer:APQ5  \\\n0     0.000034     0.00401  ...        0.230       0.01438       0.01309   \n1     0.000017     0.00132  ...        0.179       0.00994       0.01072   \n2     0.000025     0.00205  ...        0.181       0.00734       0.00844   \n3     0.000027     0.00191  ...        0.327       0.01106       0.01265   \n4     0.000020     0.00093  ...        0.176       0.00679       0.00929   \n\n   Shimmer:APQ11  Shimmer:DDA       NHR     HNR     RPDE      DFA      PPE  \n0        0.01662      0.04314  0.014290  21.640  0.41888  0.54842  0.16006  \n1        0.01689      0.02982  0.011112  27.183  0.43493  0.56477  0.10810  \n2        0.01458      0.02202  0.020220  23.047  0.46222  0.54405  0.21014  \n3        0.01963      0.03317  0.027837  24.445  0.48730  0.57794  0.33277  \n4        0.01819      0.02036  0.011625  26.126  0.47188  0.56122  0.19361  \n\n[5 rows x 23 columns]",
      "text/html": "<div>\n<style scoped>\n    .dataframe tbody tr th:only-of-type {\n        vertical-align: middle;\n    }\n\n    .dataframe tbody tr th {\n        vertical-align: top;\n    }\n\n    .dataframe thead th {\n        text-align: right;\n    }\n</style>\n<table border=\"1\" class=\"dataframe\">\n  <thead>\n    <tr style=\"text-align: right;\">\n      <th></th>\n      <th>index</th>\n      <th>subject#</th>\n      <th>age</th>\n      <th>sex</th>\n      <th>test_time</th>\n      <th>motor_UPDRS</th>\n      <th>total_UPDRS</th>\n      <th>Jitter(%)</th>\n      <th>Jitter(Abs)</th>\n      <th>Jitter:RAP</th>\n      <th>...</th>\n      <th>Shimmer(dB)</th>\n      <th>Shimmer:APQ3</th>\n      <th>Shimmer:APQ5</th>\n      <th>Shimmer:APQ11</th>\n      <th>Shimmer:DDA</th>\n      <th>NHR</th>\n      <th>HNR</th>\n      <th>RPDE</th>\n      <th>DFA</th>\n      <th>PPE</th>\n    </tr>\n  </thead>\n  <tbody>\n    <tr>\n      <th>0</th>\n      <td>0</td>\n      <td>1</td>\n      <td>72</td>\n      <td>0</td>\n      <td>5.6431</td>\n      <td>28.199</td>\n      <td>34.398</td>\n      <td>0.00662</td>\n      <td>0.000034</td>\n      <td>0.00401</td>\n      <td>...</td>\n      <td>0.230</td>\n      <td>0.01438</td>\n      <td>0.01309</td>\n      <td>0.01662</td>\n      <td>0.04314</td>\n      <td>0.014290</td>\n      <td>21.640</td>\n      <td>0.41888</td>\n      <td>0.54842</td>\n      <td>0.16006</td>\n    </tr>\n    <tr>\n      <th>1</th>\n      <td>1</td>\n      <td>1</td>\n      <td>72</td>\n      <td>0</td>\n      <td>12.6660</td>\n      <td>28.447</td>\n      <td>34.894</td>\n      <td>0.00300</td>\n      <td>0.000017</td>\n      <td>0.00132</td>\n      <td>...</td>\n      <td>0.179</td>\n      <td>0.00994</td>\n      <td>0.01072</td>\n      <td>0.01689</td>\n      <td>0.02982</td>\n      <td>0.011112</td>\n      <td>27.183</td>\n      <td>0.43493</td>\n      <td>0.56477</td>\n      <td>0.10810</td>\n    </tr>\n    <tr>\n      <th>2</th>\n      <td>2</td>\n      <td>1</td>\n      <td>72</td>\n      <td>0</td>\n      <td>19.6810</td>\n      <td>28.695</td>\n      <td>35.389</td>\n      <td>0.00481</td>\n      <td>0.000025</td>\n      <td>0.00205</td>\n      <td>...</td>\n      <td>0.181</td>\n      <td>0.00734</td>\n      <td>0.00844</td>\n      <td>0.01458</td>\n      <td>0.02202</td>\n      <td>0.020220</td>\n      <td>23.047</td>\n      <td>0.46222</td>\n      <td>0.54405</td>\n      <td>0.21014</td>\n    </tr>\n    <tr>\n      <th>3</th>\n      <td>3</td>\n      <td>1</td>\n      <td>72</td>\n      <td>0</td>\n      <td>25.6470</td>\n      <td>28.905</td>\n      <td>35.810</td>\n      <td>0.00528</td>\n      <td>0.000027</td>\n      <td>0.00191</td>\n      <td>...</td>\n      <td>0.327</td>\n      <td>0.01106</td>\n      <td>0.01265</td>\n      <td>0.01963</td>\n      <td>0.03317</td>\n      <td>0.027837</td>\n      <td>24.445</td>\n      <td>0.48730</td>\n      <td>0.57794</td>\n      <td>0.33277</td>\n    </tr>\n    <tr>\n      <th>4</th>\n      <td>4</td>\n      <td>1</td>\n      <td>72</td>\n      <td>0</td>\n      <td>33.6420</td>\n      <td>29.187</td>\n      <td>36.375</td>\n      <td>0.00335</td>\n      <td>0.000020</td>\n      <td>0.00093</td>\n      <td>...</td>\n      <td>0.176</td>\n      <td>0.00679</td>\n      <td>0.00929</td>\n      <td>0.01819</td>\n      <td>0.02036</td>\n      <td>0.011625</td>\n      <td>26.126</td>\n      <td>0.47188</td>\n      <td>0.56122</td>\n      <td>0.19361</td>\n    </tr>\n  </tbody>\n</table>\n<p>5 rows × 23 columns</p>\n</div>"
     },
     "execution_count": 3,
     "metadata": {},
     "output_type": "execute_result"
    }
   ],
   "execution_count": 3
  },
  {
   "metadata": {
    "ExecuteTime": {
     "end_time": "2024-05-18T11:57:21.854299200Z",
     "start_time": "2024-05-18T11:57:21.841277500Z"
    }
   },
   "cell_type": "code",
   "source": [
    "df.info()"
   ],
   "id": "7aab4f6bf67b21ce",
   "outputs": [
    {
     "name": "stdout",
     "output_type": "stream",
     "text": [
      "<class 'pandas.core.frame.DataFrame'>\n",
      "RangeIndex: 5875 entries, 0 to 5874\n",
      "Data columns (total 23 columns):\n",
      " #   Column         Non-Null Count  Dtype  \n",
      "---  ------         --------------  -----  \n",
      " 0   index          5875 non-null   int64  \n",
      " 1   subject#       5875 non-null   int64  \n",
      " 2   age            5875 non-null   int64  \n",
      " 3   sex            5875 non-null   int64  \n",
      " 4   test_time      5875 non-null   float64\n",
      " 5   motor_UPDRS    5875 non-null   float64\n",
      " 6   total_UPDRS    5875 non-null   float64\n",
      " 7   Jitter(%)      5875 non-null   float64\n",
      " 8   Jitter(Abs)    5875 non-null   float64\n",
      " 9   Jitter:RAP     5875 non-null   float64\n",
      " 10  Jitter:PPQ5    5875 non-null   float64\n",
      " 11  Jitter:DDP     5875 non-null   float64\n",
      " 12  Shimmer        5875 non-null   float64\n",
      " 13  Shimmer(dB)    5875 non-null   float64\n",
      " 14  Shimmer:APQ3   5875 non-null   float64\n",
      " 15  Shimmer:APQ5   5875 non-null   float64\n",
      " 16  Shimmer:APQ11  5875 non-null   float64\n",
      " 17  Shimmer:DDA    5875 non-null   float64\n",
      " 18  NHR            5875 non-null   float64\n",
      " 19  HNR            5875 non-null   float64\n",
      " 20  RPDE           5875 non-null   float64\n",
      " 21  DFA            5875 non-null   float64\n",
      " 22  PPE            5875 non-null   float64\n",
      "dtypes: float64(19), int64(4)\n",
      "memory usage: 1.0 MB\n"
     ]
    }
   ],
   "execution_count": 4
  },
  {
   "metadata": {
    "ExecuteTime": {
     "end_time": "2024-05-18T11:57:21.902136900Z",
     "start_time": "2024-05-18T11:57:21.857556700Z"
    }
   },
   "cell_type": "code",
   "source": [
    "df.drop('index', axis=1, inplace=True)"
   ],
   "id": "2a9fe9d7d3c74edc",
   "outputs": [],
   "execution_count": 5
  },
  {
   "cell_type": "code",
   "source": [
    "x = df.drop('total_UPDRS', axis=1)\n",
    "y = df['total_UPDRS']"
   ],
   "metadata": {
    "collapsed": false,
    "ExecuteTime": {
     "end_time": "2024-05-18T11:57:21.992828100Z",
     "start_time": "2024-05-18T11:57:21.870959900Z"
    }
   },
   "id": "1de54dd7fe7b5ee0",
   "outputs": [],
   "execution_count": 6
  },
  {
   "cell_type": "code",
   "source": [
    "from sklearn.model_selection import train_test_split\n",
    "# split data to train and test\n",
    "x_train, x_test, y_train, y_test = train_test_split(x, y, test_size=0.2, random_state=42)"
   ],
   "metadata": {
    "collapsed": false,
    "ExecuteTime": {
     "end_time": "2024-05-18T11:57:23.205353800Z",
     "start_time": "2024-05-18T11:57:21.889035100Z"
    }
   },
   "id": "a5a3803dc31151f0",
   "outputs": [],
   "execution_count": 7
  },
  {
   "cell_type": "code",
   "source": [
    "from sklearn.linear_model import LinearRegression\n",
    "from sklearn.tree import DecisionTreeRegressor\n",
    "from sklearn.ensemble import RandomForestRegressor\n",
    "from sklearn.svm import SVR\n",
    "\n",
    "# Define the selected models\n",
    "models = {\n",
    "    'Linear Regression': LinearRegression(\n",
    "        fit_intercept=True,  \n",
    "        n_jobs=-1            # Use all processors (training speed purpose)\n",
    "    ),\n",
    "    'Decision Tree': DecisionTreeRegressor(\n",
    "        criterion='poisson',    \n",
    "    ),\n",
    "    'Random Forest': RandomForestRegressor(\n",
    "        n_estimators=100,    # Number of trees in the forest\n",
    "    ),\n",
    "    'SVM': SVR(\n",
    "        kernel='rbf',        \n",
    "        C=1.0,               # Regularization parameter\n",
    "        epsilon=0.2\n",
    "    ),\n",
    "}\n"
   ],
   "metadata": {
    "collapsed": false,
    "ExecuteTime": {
     "end_time": "2024-05-18T11:57:51.557855200Z",
     "start_time": "2024-05-18T11:57:51.511828400Z"
    }
   },
   "id": "dc2bd14fd8def570",
   "outputs": [],
   "execution_count": 9
  },
  {
   "cell_type": "code",
   "source": [
    "import json\n",
    "import os\n",
    "\n",
    "names = {}\n",
    "names['cat'] = {}\n",
    "names['num'] = x.select_dtypes(include=['int64', 'float64']).columns.tolist()\n",
    "\n",
    "if not os.path.isdir('files'):\n",
    "    os.makedirs('files')\n",
    "\n",
    "with open('files/column_data.json', 'w') as f:\n",
    "    json.dump(names, f)\n"
   ],
   "metadata": {
    "collapsed": false,
    "ExecuteTime": {
     "end_time": "2024-05-18T11:57:53.279633800Z",
     "start_time": "2024-05-18T11:57:53.260611200Z"
    }
   },
   "id": "6a8ec9493425e64e",
   "outputs": [],
   "execution_count": 10
  },
  {
   "cell_type": "code",
   "source": [
    "from sklearn.metrics import mean_squared_error\n",
    "\n",
    "pipeline_models = {}\n",
    "mse_scores = {}\n",
    "#train models\n",
    "for name, model in models.items():\n",
    "    model.fit(x_train, y_train)\n",
    "    pipeline_models[name] = model\n",
    "\n",
    "    # Make predictions\n",
    "    y_pred = model.predict(x_test)\n",
    "    # cal error\n",
    "    mse = mean_squared_error(y_test, y_pred)\n",
    "    mse_scores[name] = mse\n",
    "\n",
    "# Convert the results to a DataFrame for pllotting\n",
    "df_models = pd.DataFrame(mse_scores.items(), columns=['model', 'mse'])\n",
    "df_models.head()\n"
   ],
   "metadata": {
    "collapsed": false,
    "ExecuteTime": {
     "end_time": "2024-05-18T11:58:03.462725100Z",
     "start_time": "2024-05-18T11:57:54.426768800Z"
    }
   },
   "id": "49b7bfd691b27c27",
   "outputs": [
    {
     "data": {
      "text/plain": "               model        mse\n0  Linear Regression   9.550888\n1      Decision Tree   0.159916\n2      Random Forest   0.106444\n3                SVM  12.970802",
      "text/html": "<div>\n<style scoped>\n    .dataframe tbody tr th:only-of-type {\n        vertical-align: middle;\n    }\n\n    .dataframe tbody tr th {\n        vertical-align: top;\n    }\n\n    .dataframe thead th {\n        text-align: right;\n    }\n</style>\n<table border=\"1\" class=\"dataframe\">\n  <thead>\n    <tr style=\"text-align: right;\">\n      <th></th>\n      <th>model</th>\n      <th>mse</th>\n    </tr>\n  </thead>\n  <tbody>\n    <tr>\n      <th>0</th>\n      <td>Linear Regression</td>\n      <td>9.550888</td>\n    </tr>\n    <tr>\n      <th>1</th>\n      <td>Decision Tree</td>\n      <td>0.159916</td>\n    </tr>\n    <tr>\n      <th>2</th>\n      <td>Random Forest</td>\n      <td>0.106444</td>\n    </tr>\n    <tr>\n      <th>3</th>\n      <td>SVM</td>\n      <td>12.970802</td>\n    </tr>\n  </tbody>\n</table>\n</div>"
     },
     "execution_count": 11,
     "metadata": {},
     "output_type": "execute_result"
    }
   ],
   "execution_count": 11
  },
  {
   "cell_type": "code",
   "source": [
    "import matplotlib.pyplot as plt\n",
    "\n",
    "# Plot the mean squared error for each model\n",
    "plt.figure(figsize=(9, 6))\n",
    "\n",
    "plt.bar('model', 'mse', data=df_models.sort_values('mse'))\n",
    "plt.ylabel('Mean Squared Error')\n",
    "plt.xlabel('Regressors')\n",
    "plt.title('Comparison of Different Regressors')\n",
    "plt.xticks(rotation=45)\n",
    "plt.show()\n"
   ],
   "metadata": {
    "collapsed": false,
    "ExecuteTime": {
     "end_time": "2024-05-18T11:58:06.780942200Z",
     "start_time": "2024-05-18T11:58:06.032663700Z"
    }
   },
   "id": "42ac231393618e49",
   "outputs": [
    {
     "data": {
      "text/plain": "<Figure size 900x600 with 1 Axes>",
      "image/png": "[encoded data removed]"
     },
     "metadata": {},
     "output_type": "display_data"
    }
   ],
   "execution_count": 12
  },
  {
   "cell_type": "markdown",
   "source": [
    "the highest MSE the worst in predictions the values so Linear regression is the worst in our case"
   ],
   "metadata": {
    "collapsed": false
   },
   "id": "83fa5ea2a0bb84cf"
  },
  {
   "cell_type": "code",
   "source": [
    "import pickle\n",
    "# save the models in piplien_models.pkl file\n",
    "with open('files/pipeline_models.pkl', 'wb') as f:\n",
    "    pickle.dump(pipeline_models, f)\n"
   ],
   "metadata": {
    "collapsed": false,
    "ExecuteTime": {
     "end_time": "2024-05-18T11:59:34.747477Z",
     "start_time": "2024-05-18T11:59:34.699608400Z"
    }
   },
   "id": "12b1eaccf6e40d8c",
   "outputs": [],
   "execution_count": 13
  },
  {
   "cell_type": "code",
   "source": [
    "pipeline_models"
   ],
   "metadata": {
    "collapsed": false,
    "ExecuteTime": {
     "start_time": "2024-05-18T11:57:23.951177400Z"
    }
   },
   "id": "d4afb7fb1cd4df5b",
   "outputs": [],
   "execution_count": null
  },
  {
   "cell_type": "code",
   "source": [],
   "metadata": {
    "collapsed": false,
    "ExecuteTime": {
     "start_time": "2024-05-18T11:57:23.953470800Z"
    }
   },
   "id": "50bf51a753f95b5b",
   "outputs": [],
   "execution_count": null
  }
 ],
 "metadata": {
  "kernelspec": {
   "display_name": "Python 3",
   "language": "python",
   "name": "python3"
  },
  "language_info": {
   "codemirror_mode": {
    "name": "ipython",
    "version": 2
   },
   "file_extension": ".py",
   "mimetype": "text/x-python",
   "name": "python",
   "nbconvert_exporter": "python",
   "pygments_lexer": "ipython2",
   "version": "2.7.6"
  }
 },
 "nbformat": 4,
 "nbformat_minor": 5
}
