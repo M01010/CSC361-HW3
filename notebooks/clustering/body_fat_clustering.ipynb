{
 "cells": [
  {
   "cell_type": "code",
   "source": [
    "import pandas as pd"
   ],
   "metadata": {
    "collapsed": false,
    "ExecuteTime": {
     "end_time": "2024-05-14T13:55:59.200321Z",
     "start_time": "2024-05-14T13:55:55.378939Z"
    }
   },
   "id": "c7d7fb6403125d6f",
   "execution_count": 1,
   "outputs": []
  },
  {
   "cell_type": "code",
   "source": [
    "data = pd.read_csv('bodyfat.csv')\n",
    "data.head()"
   ],
   "metadata": {
    "collapsed": false,
    "ExecuteTime": {
     "end_time": "2024-05-14T13:56:03.705492Z",
     "start_time": "2024-05-14T13:56:03.626329Z"
    }
   },
   "id": "5c3cc96adfbf9b6f",
   "execution_count": 2,
   "outputs": []
  },
  {
   "cell_type": "code",
   "source": [
    "import pandas as pd\n",
    "import matplotlib.pyplot as plt\n",
    "from sklearn.cluster import KMeans, AgglomerativeClustering, DBSCAN\n",
    "from sklearn.preprocessing import StandardScaler\n",
    "import seaborn as sns\n",
    "\n",
    "# Feature scaling\n",
    "scaler = StandardScaler()\n",
    "scaled_data = scaler.fit_transform(data)\n",
    "\n",
    "# Clustering algorithms\n",
    "kmeans = KMeans(n_clusters=3)\n",
    "agglomerative = AgglomerativeClustering(n_clusters=3)\n",
    "dbscan = DBSCAN(eps=0.5, min_samples=5)\n",
    "\n",
    "# Fit clustering algorithms\n",
    "kmeans_labels = kmeans.fit_predict(scaled_data)\n",
    "agglomerative_labels = agglomerative.fit_predict(scaled_data)\n",
    "dbscan_labels = dbscan.fit_predict(scaled_data)\n",
    "\n",
    "# Plotting\n",
    "plt.figure(figsize=(16, 5))\n",
    "\n",
    "# KMeans\n",
    "plt.subplot(1, 3, 1)\n",
    "sns.scatterplot(data=data, x='Weight', y='Height', hue=kmeans_labels, palette='Set1', legend='full')\n",
    "plt.title('KMeans Clustering')\n",
    "\n",
    "# Agglomerative Clustering\n",
    "plt.subplot(1, 3, 2)\n",
    "sns.scatterplot(data=data, x='Weight', y='Height', hue=agglomerative_labels, palette='Set1', legend='full')\n",
    "plt.title('Agglomerative Clustering')\n",
    "\n",
    "# DBSCAN\n",
    "plt.subplot(1, 3, 3)\n",
    "sns.scatterplot(data=data, x='Weight', y='Height', hue=dbscan_labels, palette='Set1', legend='full')\n",
    "plt.title('DBSCAN Clustering')\n",
    "\n",
    "plt.tight_layout()\n",
    "plt.show()"
   ],
   "metadata": {
    "collapsed": false,
    "ExecuteTime": {
     "end_time": "2024-05-14T13:57:49.481991Z",
     "start_time": "2024-05-14T13:57:33.801299Z"
    }
   },
   "id": "5abdd8ca909c4eff",
   "execution_count": 3,
   "outputs": []
  },
  {
   "cell_type": "code",
   "source": [],
   "metadata": {
    "collapsed": false
   },
   "id": "7e7819680912ca1f",
   "execution_count": null,
   "outputs": []
  }
 ],
 "metadata": {
  "kernelspec": {
   "display_name": "Python 3",
   "language": "python",
   "name": "python3"
  },
  "language_info": {
   "codemirror_mode": {
    "name": "ipython",
    "version": 2
   },
   "file_extension": ".py",
   "mimetype": "text/x-python",
   "name": "python",
   "nbconvert_exporter": "python",
   "pygments_lexer": "ipython2",
   "version": "2.7.6"
  }
 },
 "nbformat": 4,
 "nbformat_minor": 5
}
